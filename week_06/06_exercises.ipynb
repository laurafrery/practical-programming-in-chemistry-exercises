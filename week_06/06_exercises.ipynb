{
 "cells": [
  {
   "cell_type": "markdown",
   "metadata": {},
   "source": [
    "# Week 6: RDKit (part 2)\n",
    "Last week, we learned about the RDKit library and how to use it to manipulate and visualize molecules. This week, we will go in deeper and learn about the following topics:\n",
    "\n",
    "* Substructure matching\n",
    "    * Maximum common substructure\n",
    "* Conformer generation"
   ]
  },
  {
   "cell_type": "markdown",
   "metadata": {},
   "source": [
    "## Substructure matching\n",
    "Substructure matching is a common task in cheminformatics. It is used to find a specific substructure in a molecule. RDKit provides a few functions for substructure searching. One of them is [`HasSubstructMatch`](https://www.rdkit.org/docs/source/rdkit.Chem.rdchem.html#rdkit.Chem.rdchem.Mol.HasSubstructMatch), which returns `True` if the molecule contains the substructure and `False` otherwise. Another function is [`GetSubstructMatch`](https://www.rdkit.org/docs/source/rdkit.Chem.rdchem.html#rdkit.Chem.rdchem.Mol.GetSubstructMatch), which returns the indices of the atoms in the molecule that match the substructure. Let's see an example of substructure matching using the `HasSubstructMatch` function."
   ]
  },
  {
   "cell_type": "markdown",
   "metadata": {},
   "source": [
    "Let's start by loading the RDKit library and the drug molecules from last week's exercise."
   ]
  },
  {
   "cell_type": "code",
   "execution_count": 3,
   "metadata": {},
   "outputs": [],
   "source": [
    "# some imports\n",
    "from rdkit import Chem\n",
    "from rdkit.Chem import PandasTools\n",
    "import pandas as pd\n",
    "from pathlib import Path\n",
    "import os"
   ]
  },
  {
   "cell_type": "code",
   "execution_count": 4,
   "metadata": {},
   "outputs": [
    {
     "data": {
      "text/html": [
       "<div>\n",
       "<style scoped>\n",
       "    .dataframe tbody tr th:only-of-type {\n",
       "        vertical-align: middle;\n",
       "    }\n",
       "\n",
       "    .dataframe tbody tr th {\n",
       "        vertical-align: top;\n",
       "    }\n",
       "\n",
       "    .dataframe thead th {\n",
       "        text-align: right;\n",
       "    }\n",
       "</style>\n",
       "<table border=\"1\" class=\"dataframe\">\n",
       "  <thead>\n",
       "    <tr style=\"text-align: right;\">\n",
       "      <th></th>\n",
       "      <th>Parent Molecule</th>\n",
       "      <th>Name</th>\n",
       "      <th>Synonyms</th>\n",
       "      <th>Research Codes</th>\n",
       "      <th>Phase</th>\n",
       "      <th>Drug Applicants</th>\n",
       "      <th>USAN Stem</th>\n",
       "      <th>USAN Year</th>\n",
       "      <th>USAN Definition</th>\n",
       "      <th>USAN Stem - Substem</th>\n",
       "      <th>...</th>\n",
       "      <th>Passes Rule of Five</th>\n",
       "      <th>First In Class</th>\n",
       "      <th>Chirality</th>\n",
       "      <th>Prodrug</th>\n",
       "      <th>Oral</th>\n",
       "      <th>Parenteral</th>\n",
       "      <th>Topical</th>\n",
       "      <th>Black Box</th>\n",
       "      <th>Availability Type</th>\n",
       "      <th>Smiles</th>\n",
       "    </tr>\n",
       "  </thead>\n",
       "  <tbody>\n",
       "    <tr>\n",
       "      <th>0</th>\n",
       "      <td>CHEMBL492491</td>\n",
       "      <td>FENVALERATE</td>\n",
       "      <td>BELMARK|FENVALERATE|PHENVALERATE|PYDRIN|S-5602...</td>\n",
       "      <td>S-5602|SD-43775|WL-43775</td>\n",
       "      <td>-1.0</td>\n",
       "      <td>NaN</td>\n",
       "      <td>NaN</td>\n",
       "      <td>NaN</td>\n",
       "      <td>NaN</td>\n",
       "      <td>NaN</td>\n",
       "      <td>...</td>\n",
       "      <td>0</td>\n",
       "      <td>0</td>\n",
       "      <td>Racemic Mixture</td>\n",
       "      <td>0</td>\n",
       "      <td>0</td>\n",
       "      <td>0</td>\n",
       "      <td>0</td>\n",
       "      <td>0</td>\n",
       "      <td>Unknown</td>\n",
       "      <td>CC(C)C(C(=O)OC(C#N)c1cccc(Oc2ccccc2)c1)c1ccc(C...</td>\n",
       "    </tr>\n",
       "    <tr>\n",
       "      <th>1</th>\n",
       "      <td>CHEMBL2103777</td>\n",
       "      <td>THIOPHANATE</td>\n",
       "      <td>NSC-170810|THIOPHANATE</td>\n",
       "      <td>NSC-170810</td>\n",
       "      <td>-1.0</td>\n",
       "      <td>NaN</td>\n",
       "      <td>NaN</td>\n",
       "      <td>NaN</td>\n",
       "      <td>NaN</td>\n",
       "      <td>NaN</td>\n",
       "      <td>...</td>\n",
       "      <td>1</td>\n",
       "      <td>0</td>\n",
       "      <td>Achiral Molecule</td>\n",
       "      <td>0</td>\n",
       "      <td>0</td>\n",
       "      <td>0</td>\n",
       "      <td>0</td>\n",
       "      <td>0</td>\n",
       "      <td>Unknown</td>\n",
       "      <td>CCOC(=O)NC(=S)Nc1ccccc1NC(=S)NC(=O)OCC</td>\n",
       "    </tr>\n",
       "    <tr>\n",
       "      <th>2</th>\n",
       "      <td>CHEMBL1868702</td>\n",
       "      <td>GESTRINONE</td>\n",
       "      <td>A 46 745|A-46-745|A-46745|DIMETRIOSE|GESTRINON...</td>\n",
       "      <td>A 46 745|A-46-745|A-46745|R 2323|R-2323|RU 232...</td>\n",
       "      <td>4.0</td>\n",
       "      <td>NaN</td>\n",
       "      <td>'-estr-; -rinone'</td>\n",
       "      <td>1978.0</td>\n",
       "      <td>estrogens; cardiotonics (amrinone type)</td>\n",
       "      <td>'-estr-(-estr-); -rinone(-rinone)'</td>\n",
       "      <td>...</td>\n",
       "      <td>1</td>\n",
       "      <td>0</td>\n",
       "      <td>Single Stereoisomer</td>\n",
       "      <td>0</td>\n",
       "      <td>0</td>\n",
       "      <td>0</td>\n",
       "      <td>0</td>\n",
       "      <td>0</td>\n",
       "      <td>Unknown</td>\n",
       "      <td>C#C[C@]1(O)CC[C@H]2[C@@H]3CCC4=CC(=O)CCC4=C3C=...</td>\n",
       "    </tr>\n",
       "    <tr>\n",
       "      <th>3</th>\n",
       "      <td>CHEMBL2104213</td>\n",
       "      <td>DESMENINOL</td>\n",
       "      <td>DESMENINOL|METHIONINE HYDROXY ANALOG</td>\n",
       "      <td>NaN</td>\n",
       "      <td>-1.0</td>\n",
       "      <td>NaN</td>\n",
       "      <td>NaN</td>\n",
       "      <td>NaN</td>\n",
       "      <td>NaN</td>\n",
       "      <td>NaN</td>\n",
       "      <td>...</td>\n",
       "      <td>1</td>\n",
       "      <td>0</td>\n",
       "      <td>Racemic Mixture</td>\n",
       "      <td>0</td>\n",
       "      <td>0</td>\n",
       "      <td>0</td>\n",
       "      <td>0</td>\n",
       "      <td>0</td>\n",
       "      <td>Unknown</td>\n",
       "      <td>CSCCC(O)C(=O)O</td>\n",
       "    </tr>\n",
       "    <tr>\n",
       "      <th>4</th>\n",
       "      <td>CHEMBL1904952</td>\n",
       "      <td>QUAZODINE</td>\n",
       "      <td>MJ 1988|MJ-1988|QUAZODINE</td>\n",
       "      <td>MJ 1988|MJ-1988</td>\n",
       "      <td>-1.0</td>\n",
       "      <td>NaN</td>\n",
       "      <td>NaN</td>\n",
       "      <td>1968.0</td>\n",
       "      <td>NaN</td>\n",
       "      <td>NaN</td>\n",
       "      <td>...</td>\n",
       "      <td>1</td>\n",
       "      <td>0</td>\n",
       "      <td>Achiral Molecule</td>\n",
       "      <td>0</td>\n",
       "      <td>0</td>\n",
       "      <td>0</td>\n",
       "      <td>0</td>\n",
       "      <td>0</td>\n",
       "      <td>Unknown</td>\n",
       "      <td>CCc1ncnc2cc(OC)c(OC)cc12</td>\n",
       "    </tr>\n",
       "  </tbody>\n",
       "</table>\n",
       "<p>5 rows × 29 columns</p>\n",
       "</div>"
      ],
      "text/plain": [
       "  Parent Molecule         Name  \\\n",
       "0    CHEMBL492491  FENVALERATE   \n",
       "1   CHEMBL2103777  THIOPHANATE   \n",
       "2   CHEMBL1868702   GESTRINONE   \n",
       "3   CHEMBL2104213   DESMENINOL   \n",
       "4   CHEMBL1904952    QUAZODINE   \n",
       "\n",
       "                                            Synonyms  \\\n",
       "0  BELMARK|FENVALERATE|PHENVALERATE|PYDRIN|S-5602...   \n",
       "1                             NSC-170810|THIOPHANATE   \n",
       "2  A 46 745|A-46-745|A-46745|DIMETRIOSE|GESTRINON...   \n",
       "3               DESMENINOL|METHIONINE HYDROXY ANALOG   \n",
       "4                          MJ 1988|MJ-1988|QUAZODINE   \n",
       "\n",
       "                                      Research Codes  Phase Drug Applicants  \\\n",
       "0                           S-5602|SD-43775|WL-43775   -1.0             NaN   \n",
       "1                                         NSC-170810   -1.0             NaN   \n",
       "2  A 46 745|A-46-745|A-46745|R 2323|R-2323|RU 232...    4.0             NaN   \n",
       "3                                                NaN   -1.0             NaN   \n",
       "4                                    MJ 1988|MJ-1988   -1.0             NaN   \n",
       "\n",
       "           USAN Stem  USAN Year                          USAN Definition  \\\n",
       "0                NaN        NaN                                      NaN   \n",
       "1                NaN        NaN                                      NaN   \n",
       "2  '-estr-; -rinone'     1978.0  estrogens; cardiotonics (amrinone type)   \n",
       "3                NaN        NaN                                      NaN   \n",
       "4                NaN     1968.0                                      NaN   \n",
       "\n",
       "                  USAN Stem - Substem  ...  Passes Rule of Five  \\\n",
       "0                                 NaN  ...                    0   \n",
       "1                                 NaN  ...                    1   \n",
       "2  '-estr-(-estr-); -rinone(-rinone)'  ...                    1   \n",
       "3                                 NaN  ...                    1   \n",
       "4                                 NaN  ...                    1   \n",
       "\n",
       "  First In Class            Chirality Prodrug Oral Parenteral Topical  \\\n",
       "0              0      Racemic Mixture       0    0          0       0   \n",
       "1              0     Achiral Molecule       0    0          0       0   \n",
       "2              0  Single Stereoisomer       0    0          0       0   \n",
       "3              0      Racemic Mixture       0    0          0       0   \n",
       "4              0     Achiral Molecule       0    0          0       0   \n",
       "\n",
       "  Black Box Availability Type  \\\n",
       "0         0           Unknown   \n",
       "1         0           Unknown   \n",
       "2         0           Unknown   \n",
       "3         0           Unknown   \n",
       "4         0           Unknown   \n",
       "\n",
       "                                              Smiles  \n",
       "0  CC(C)C(C(=O)OC(C#N)c1cccc(Oc2ccccc2)c1)c1ccc(C...  \n",
       "1             CCOC(=O)NC(=S)Nc1ccccc1NC(=S)NC(=O)OCC  \n",
       "2  C#C[C@]1(O)CC[C@H]2[C@@H]3CCC4=CC(=O)CCC4=C3C=...  \n",
       "3                                     CSCCC(O)C(=O)O  \n",
       "4                           CCc1ncnc2cc(OC)c(OC)cc12  \n",
       "\n",
       "[5 rows x 29 columns]"
      ]
     },
     "execution_count": 4,
     "metadata": {},
     "output_type": "execute_result"
    }
   ],
   "source": [
    "current_file = Path(os.path.abspath(''))\n",
    "csv_file = current_file.parent / \"week_05\" / \"chembl_drugs.csv\"\n",
    "df = pd.read_csv(csv_file, sep= \";\")\n",
    "df.head()"
   ]
  },
  {
   "cell_type": "code",
   "execution_count": 5,
   "metadata": {},
   "outputs": [],
   "source": [
    "# remove the rows with NaN values for SMILES (you did it last week)\n",
    "df = df.dropna(subset=[\"Smiles\"])"
   ]
  },
  {
   "cell_type": "code",
   "execution_count": 7,
   "metadata": {},
   "outputs": [
    {
     "name": "stderr",
     "output_type": "stream",
     "text": [
      "[10:42:24] WARNING: not removing hydrogen atom without neighbors\n",
      "[10:42:24] WARNING: not removing hydrogen atom without neighbors\n",
      "[10:42:24] WARNING: not removing hydrogen atom without neighbors\n",
      "[10:42:25] WARNING: not removing hydrogen atom without neighbors\n",
      "[10:42:25] WARNING: not removing hydrogen atom without neighbors\n",
      "[10:42:25] WARNING: not removing hydrogen atom without neighbors\n",
      "[10:42:25] WARNING: not removing hydrogen atom without neighbors\n"
     ]
    }
   ],
   "source": [
    "# add molecule objects to the df from SMILES in a column named \"mol\" using RDKit functions (PandasTools or Chem module)\n",
    "PandasTools.AddMoleculeColumnToFrame(df, smilesCol=\"Smiles\", molCol=\"mol\")"
   ]
  },
  {
   "cell_type": "markdown",
   "metadata": {},
   "source": [
    "### Tyrosina Kinase Inhibitors\n",
    "Tyrosine kinases are enzymes that catalyze the transfer of phosphate groups from ATP to tyrosine residues in proteins. The phosphorylation of proteins by tyrosine kinases is an important mechanism for the activation of signal transduction pathways in response to extracellular stimuli. The uncontrolled (or excessive) activity of tyrosine kinases can lead to cancer. Therefore, tyrosine kinases are an important target for cancer therapy. In the binding pocket of these kinases there is a conserved lysine residue that binds to the phosphate group of ATP (the \"hinge region\"). The inhibitors of tyrosine kinases are designed to mimic ATP and there's substructures (\"motifs\") known to enable binding the hinge region. For more information look at this paper: [Designing of kinase hinge binders: A medicinal chemistry perspective](https://onlinelibrary.wiley.com/doi/epdf/10.1111/cbdd.14024?saml_referrer)\n",
    "\n",
    "First, let's get the motif that binds the hinge region of tyrosine kinases:"
   ]
  },
  {
   "attachments": {
    "image.png": {
     "image/png": "[encoded data removed]"
    }
   },
   "cell_type": "markdown",
   "metadata": {},
   "source": [
    "![image.png](attachment:image.png)"
   ]
  },
  {
   "cell_type": "code",
   "execution_count": 15,
   "metadata": {},
   "outputs": [
    {
     "data": {
      "image/png": "[encoded data removed]",
      "text/plain": [
       "<rdkit.Chem.rdchem.Mol at 0x18a023c93f0>"
      ]
     },
     "execution_count": 15,
     "metadata": {},
     "output_type": "execute_result"
    }
   ],
   "source": [
    "indazole_smi = \"c1cc2c(cc1)C=NN2\"\n",
    "indazole = Chem.MolFromSmiles(indazole_smi)\n",
    "indazole"
   ]
  },
  {
   "cell_type": "markdown",
   "metadata": {},
   "source": [
    "Let's test the [`HasSubstructMatch`](https://www.rdkit.org/docs/source/rdkit.Chem.rdchem.html#rdkit.Chem.rdchem.Mol.HasSubstructMatch) function on one example molecule to see how it works."
   ]
  },
  {
   "cell_type": "code",
   "execution_count": 16,
   "metadata": {},
   "outputs": [
    {
     "data": {
      "image/png": "[encoded data removed]",
      "text/plain": [
       "<rdkit.Chem.rdchem.Mol at 0x18a023cb220>"
      ]
     },
     "execution_count": 16,
     "metadata": {},
     "output_type": "execute_result"
    }
   ],
   "source": [
    "test_mol = df[\"mol\"][0]\n",
    "test_mol"
   ]
  },
  {
   "cell_type": "code",
   "execution_count": 17,
   "metadata": {},
   "outputs": [
    {
     "data": {
      "text/plain": [
       "False"
      ]
     },
     "execution_count": 17,
     "metadata": {},
     "output_type": "execute_result"
    }
   ],
   "source": [
    "test_mol.HasSubstructMatch(indazole)"
   ]
  },
  {
   "cell_type": "markdown",
   "metadata": {},
   "source": [
    "Now, let's query all the drug molecules for the presence of the hinge binding motif. use the [`HasSubstructMatch`](https://www.rdkit.org/docs/source/rdkit.Chem.rdchem.html#rdkit.Chem.rdchem.Mol.HasSubstructMatch) function in combinations with `pandas.apply` to check if the molecule contains the motif."
   ]
  },
  {
   "cell_type": "code",
   "execution_count": 18,
   "metadata": {},
   "outputs": [],
   "source": [
    "df['has_indazole'] = df['mol'].apply(lambda x: x.HasSubstructMatch(indazole))"
   ]
  },
  {
   "cell_type": "markdown",
   "metadata": {},
   "source": [
    "`USAN Definitions` roughly tell us what class of drug we are looking at. We'll remove missing values for analysis purposes."
   ]
  },
  {
   "cell_type": "code",
   "execution_count": 20,
   "metadata": {},
   "outputs": [
    {
     "data": {
      "text/html": [
       "<div>\n",
       "<style scoped>\n",
       "    .dataframe tbody tr th:only-of-type {\n",
       "        vertical-align: middle;\n",
       "    }\n",
       "\n",
       "    .dataframe tbody tr th {\n",
       "        vertical-align: top;\n",
       "    }\n",
       "\n",
       "    .dataframe thead th {\n",
       "        text-align: right;\n",
       "    }\n",
       "</style>\n",
       "<table border=\"1\" class=\"dataframe\">\n",
       "  <thead>\n",
       "    <tr style=\"text-align: right;\">\n",
       "      <th></th>\n",
       "      <th>Parent Molecule</th>\n",
       "      <th>Name</th>\n",
       "      <th>Synonyms</th>\n",
       "      <th>Research Codes</th>\n",
       "      <th>Phase</th>\n",
       "      <th>Drug Applicants</th>\n",
       "      <th>USAN Stem</th>\n",
       "      <th>USAN Year</th>\n",
       "      <th>USAN Definition</th>\n",
       "      <th>USAN Stem - Substem</th>\n",
       "      <th>...</th>\n",
       "      <th>Chirality</th>\n",
       "      <th>Prodrug</th>\n",
       "      <th>Oral</th>\n",
       "      <th>Parenteral</th>\n",
       "      <th>Topical</th>\n",
       "      <th>Black Box</th>\n",
       "      <th>Availability Type</th>\n",
       "      <th>Smiles</th>\n",
       "      <th>mol</th>\n",
       "      <th>has_indazole</th>\n",
       "    </tr>\n",
       "  </thead>\n",
       "  <tbody>\n",
       "    <tr>\n",
       "      <th>2</th>\n",
       "      <td>CHEMBL1868702</td>\n",
       "      <td>GESTRINONE</td>\n",
       "      <td>A 46 745|A-46-745|A-46745|DIMETRIOSE|GESTRINON...</td>\n",
       "      <td>A 46 745|A-46-745|A-46745|R 2323|R-2323|RU 232...</td>\n",
       "      <td>4.0</td>\n",
       "      <td>NaN</td>\n",
       "      <td>'-estr-; -rinone'</td>\n",
       "      <td>1978.0</td>\n",
       "      <td>estrogens; cardiotonics (amrinone type)</td>\n",
       "      <td>'-estr-(-estr-); -rinone(-rinone)'</td>\n",
       "      <td>...</td>\n",
       "      <td>Single Stereoisomer</td>\n",
       "      <td>0</td>\n",
       "      <td>0</td>\n",
       "      <td>0</td>\n",
       "      <td>0</td>\n",
       "      <td>0</td>\n",
       "      <td>Unknown</td>\n",
       "      <td>C#C[C@]1(O)CC[C@H]2[C@@H]3CCC4=CC(=O)CCC4=C3C=...</td>\n",
       "      <td>&lt;rdkit.Chem.rdchem.Mol object at 0x0000018A023...</td>\n",
       "      <td>False</td>\n",
       "    </tr>\n",
       "    <tr>\n",
       "      <th>7</th>\n",
       "      <td>CHEMBL2106893</td>\n",
       "      <td>METHOXYPHEDRINE</td>\n",
       "      <td>4-METHOXYMETHCATHINONE|J6.703B|METHEDRONE|METH...</td>\n",
       "      <td>J6.703B</td>\n",
       "      <td>-1.0</td>\n",
       "      <td>NaN</td>\n",
       "      <td>'-drine'</td>\n",
       "      <td>NaN</td>\n",
       "      <td>sympathomimetics</td>\n",
       "      <td>'-drine(-drine)'</td>\n",
       "      <td>...</td>\n",
       "      <td>Racemic Mixture</td>\n",
       "      <td>0</td>\n",
       "      <td>0</td>\n",
       "      <td>0</td>\n",
       "      <td>0</td>\n",
       "      <td>0</td>\n",
       "      <td>Unknown</td>\n",
       "      <td>CNC(C)C(=O)c1ccc(OC)cc1</td>\n",
       "      <td>&lt;rdkit.Chem.rdchem.Mol object at 0x0000018A023...</td>\n",
       "      <td>False</td>\n",
       "    </tr>\n",
       "    <tr>\n",
       "      <th>9</th>\n",
       "      <td>CHEMBL1256871</td>\n",
       "      <td>SOBUZOXANE</td>\n",
       "      <td>SOBUZOXANE</td>\n",
       "      <td>NaN</td>\n",
       "      <td>-1.0</td>\n",
       "      <td>NaN</td>\n",
       "      <td>'-oxane'</td>\n",
       "      <td>NaN</td>\n",
       "      <td>alpha-adrenoceptor antagonists (benzodioxane d...</td>\n",
       "      <td>'-oxane(-oxane)'</td>\n",
       "      <td>...</td>\n",
       "      <td>Achiral Molecule</td>\n",
       "      <td>0</td>\n",
       "      <td>0</td>\n",
       "      <td>0</td>\n",
       "      <td>0</td>\n",
       "      <td>0</td>\n",
       "      <td>Unknown</td>\n",
       "      <td>CC(C)COC(=O)OCN1C(=O)CN(CCN2CC(=O)N(COC(=O)OCC...</td>\n",
       "      <td>&lt;rdkit.Chem.rdchem.Mol object at 0x0000018A023...</td>\n",
       "      <td>False</td>\n",
       "    </tr>\n",
       "    <tr>\n",
       "      <th>17</th>\n",
       "      <td>CHEMBL64706</td>\n",
       "      <td>ORBOFIBAN</td>\n",
       "      <td>ORBOFIBAN|SC-57099B</td>\n",
       "      <td>SC-57099B</td>\n",
       "      <td>-1.0</td>\n",
       "      <td>NaN</td>\n",
       "      <td>'-fiban'</td>\n",
       "      <td>1996.0</td>\n",
       "      <td>fibrinogen receptor antagonists (glycoprotein ...</td>\n",
       "      <td>'-fiban(-fiban)'</td>\n",
       "      <td>...</td>\n",
       "      <td>Single Stereoisomer</td>\n",
       "      <td>0</td>\n",
       "      <td>0</td>\n",
       "      <td>0</td>\n",
       "      <td>0</td>\n",
       "      <td>0</td>\n",
       "      <td>Unknown</td>\n",
       "      <td>CCOC(=O)CCNC(=O)N[C@H]1CCN(c2ccc(C(=N)N)cc2)C1=O</td>\n",
       "      <td>&lt;rdkit.Chem.rdchem.Mol object at 0x0000018A023...</td>\n",
       "      <td>False</td>\n",
       "    </tr>\n",
       "    <tr>\n",
       "      <th>18</th>\n",
       "      <td>CHEMBL462222</td>\n",
       "      <td>PENTAMUSTINE</td>\n",
       "      <td>NCNU|NEPTAMUSTINE|PENTAMUSTINE|Salisburystin</td>\n",
       "      <td>NCNU</td>\n",
       "      <td>-1.0</td>\n",
       "      <td>NaN</td>\n",
       "      <td>'-mustine'</td>\n",
       "      <td>1980.0</td>\n",
       "      <td>antineoplastics (chloroethylamine derivatives)</td>\n",
       "      <td>'-mustine(-mustine)'</td>\n",
       "      <td>...</td>\n",
       "      <td>Achiral Molecule</td>\n",
       "      <td>0</td>\n",
       "      <td>0</td>\n",
       "      <td>0</td>\n",
       "      <td>0</td>\n",
       "      <td>0</td>\n",
       "      <td>Unknown</td>\n",
       "      <td>CC(C)(C)CNC(=O)N(CCCl)N=O</td>\n",
       "      <td>&lt;rdkit.Chem.rdchem.Mol object at 0x0000018A023...</td>\n",
       "      <td>False</td>\n",
       "    </tr>\n",
       "  </tbody>\n",
       "</table>\n",
       "<p>5 rows × 31 columns</p>\n",
       "</div>"
      ],
      "text/plain": [
       "   Parent Molecule             Name  \\\n",
       "2    CHEMBL1868702       GESTRINONE   \n",
       "7    CHEMBL2106893  METHOXYPHEDRINE   \n",
       "9    CHEMBL1256871       SOBUZOXANE   \n",
       "17     CHEMBL64706        ORBOFIBAN   \n",
       "18    CHEMBL462222     PENTAMUSTINE   \n",
       "\n",
       "                                             Synonyms  \\\n",
       "2   A 46 745|A-46-745|A-46745|DIMETRIOSE|GESTRINON...   \n",
       "7   4-METHOXYMETHCATHINONE|J6.703B|METHEDRONE|METH...   \n",
       "9                                          SOBUZOXANE   \n",
       "17                                ORBOFIBAN|SC-57099B   \n",
       "18       NCNU|NEPTAMUSTINE|PENTAMUSTINE|Salisburystin   \n",
       "\n",
       "                                       Research Codes  Phase Drug Applicants  \\\n",
       "2   A 46 745|A-46-745|A-46745|R 2323|R-2323|RU 232...    4.0             NaN   \n",
       "7                                             J6.703B   -1.0             NaN   \n",
       "9                                                 NaN   -1.0             NaN   \n",
       "17                                          SC-57099B   -1.0             NaN   \n",
       "18                                               NCNU   -1.0             NaN   \n",
       "\n",
       "            USAN Stem  USAN Year  \\\n",
       "2   '-estr-; -rinone'     1978.0   \n",
       "7            '-drine'        NaN   \n",
       "9            '-oxane'        NaN   \n",
       "17           '-fiban'     1996.0   \n",
       "18         '-mustine'     1980.0   \n",
       "\n",
       "                                      USAN Definition  \\\n",
       "2             estrogens; cardiotonics (amrinone type)   \n",
       "7                                    sympathomimetics   \n",
       "9   alpha-adrenoceptor antagonists (benzodioxane d...   \n",
       "17  fibrinogen receptor antagonists (glycoprotein ...   \n",
       "18     antineoplastics (chloroethylamine derivatives)   \n",
       "\n",
       "                   USAN Stem - Substem  ...            Chirality Prodrug Oral  \\\n",
       "2   '-estr-(-estr-); -rinone(-rinone)'  ...  Single Stereoisomer       0    0   \n",
       "7                     '-drine(-drine)'  ...      Racemic Mixture       0    0   \n",
       "9                     '-oxane(-oxane)'  ...     Achiral Molecule       0    0   \n",
       "17                    '-fiban(-fiban)'  ...  Single Stereoisomer       0    0   \n",
       "18                '-mustine(-mustine)'  ...     Achiral Molecule       0    0   \n",
       "\n",
       "   Parenteral Topical Black Box Availability Type  \\\n",
       "2           0       0         0           Unknown   \n",
       "7           0       0         0           Unknown   \n",
       "9           0       0         0           Unknown   \n",
       "17          0       0         0           Unknown   \n",
       "18          0       0         0           Unknown   \n",
       "\n",
       "                                               Smiles  \\\n",
       "2   C#C[C@]1(O)CC[C@H]2[C@@H]3CCC4=CC(=O)CCC4=C3C=...   \n",
       "7                             CNC(C)C(=O)c1ccc(OC)cc1   \n",
       "9   CC(C)COC(=O)OCN1C(=O)CN(CCN2CC(=O)N(COC(=O)OCC...   \n",
       "17   CCOC(=O)CCNC(=O)N[C@H]1CCN(c2ccc(C(=N)N)cc2)C1=O   \n",
       "18                          CC(C)(C)CNC(=O)N(CCCl)N=O   \n",
       "\n",
       "                                                  mol  has_indazole  \n",
       "2   <rdkit.Chem.rdchem.Mol object at 0x0000018A023...         False  \n",
       "7   <rdkit.Chem.rdchem.Mol object at 0x0000018A023...         False  \n",
       "9   <rdkit.Chem.rdchem.Mol object at 0x0000018A023...         False  \n",
       "17  <rdkit.Chem.rdchem.Mol object at 0x0000018A023...         False  \n",
       "18  <rdkit.Chem.rdchem.Mol object at 0x0000018A023...         False  \n",
       "\n",
       "[5 rows x 31 columns]"
      ]
     },
     "execution_count": 20,
     "metadata": {},
     "output_type": "execute_result"
    }
   ],
   "source": [
    "# remove rows that do not have a USAN definition\n",
    "df = df.dropna(subset=[\"USAN Definition\"])\n",
    "df.head()"
   ]
  },
  {
   "cell_type": "markdown",
   "metadata": {},
   "source": [
    "Filter the molecules:\n",
    "* remove the molecules that do not contain the motif\n",
    "* only keep molecules that are tyrosine kinase inhibitors"
   ]
  },
  {
   "cell_type": "code",
   "execution_count": 21,
   "metadata": {},
   "outputs": [
    {
     "data": {
      "text/html": [
       "<div>\n",
       "<style scoped>\n",
       "    .dataframe tbody tr th:only-of-type {\n",
       "        vertical-align: middle;\n",
       "    }\n",
       "\n",
       "    .dataframe tbody tr th {\n",
       "        vertical-align: top;\n",
       "    }\n",
       "\n",
       "    .dataframe thead th {\n",
       "        text-align: right;\n",
       "    }\n",
       "</style>\n",
       "<table border=\"1\" class=\"dataframe\">\n",
       "  <thead>\n",
       "    <tr style=\"text-align: right;\">\n",
       "      <th></th>\n",
       "      <th>Parent Molecule</th>\n",
       "      <th>Name</th>\n",
       "      <th>Synonyms</th>\n",
       "      <th>Research Codes</th>\n",
       "      <th>Phase</th>\n",
       "      <th>Drug Applicants</th>\n",
       "      <th>USAN Stem</th>\n",
       "      <th>USAN Year</th>\n",
       "      <th>USAN Definition</th>\n",
       "      <th>USAN Stem - Substem</th>\n",
       "      <th>...</th>\n",
       "      <th>Chirality</th>\n",
       "      <th>Prodrug</th>\n",
       "      <th>Oral</th>\n",
       "      <th>Parenteral</th>\n",
       "      <th>Topical</th>\n",
       "      <th>Black Box</th>\n",
       "      <th>Availability Type</th>\n",
       "      <th>Smiles</th>\n",
       "      <th>mol</th>\n",
       "      <th>has_indazole</th>\n",
       "    </tr>\n",
       "  </thead>\n",
       "  <tbody>\n",
       "    <tr>\n",
       "      <th>870</th>\n",
       "      <td>CHEMBL24329</td>\n",
       "      <td>TELOXANTRONE</td>\n",
       "      <td>CI-937|PD-113309|TELOXANTRONE</td>\n",
       "      <td>CI-937|PD-113309</td>\n",
       "      <td>-1.0</td>\n",
       "      <td>NaN</td>\n",
       "      <td>'-antrone'</td>\n",
       "      <td>1992.0</td>\n",
       "      <td>antineoplastics, anthraquinone derivatives</td>\n",
       "      <td>'-antrone(-antrone)'</td>\n",
       "      <td>...</td>\n",
       "      <td>Achiral Molecule</td>\n",
       "      <td>0</td>\n",
       "      <td>0</td>\n",
       "      <td>0</td>\n",
       "      <td>0</td>\n",
       "      <td>0</td>\n",
       "      <td>Unknown</td>\n",
       "      <td>CNCCNc1ccc2c3c(nn2CCNCCO)-c2c(O)ccc(O)c2C(=O)c13</td>\n",
       "      <td>&lt;rdkit.Chem.rdchem.Mol object at 0x0000018A023...</td>\n",
       "      <td>True</td>\n",
       "    </tr>\n",
       "    <tr>\n",
       "      <th>1171</th>\n",
       "      <td>CHEMBL150303</td>\n",
       "      <td>NORTOPIXANTRONE</td>\n",
       "      <td>BBR 3438|BBR-3438|NORTOPIXANTRONE|Nortopixantrone</td>\n",
       "      <td>BBR 3438|BBR-3438</td>\n",
       "      <td>-1.0</td>\n",
       "      <td>NaN</td>\n",
       "      <td>'-antrone'</td>\n",
       "      <td>NaN</td>\n",
       "      <td>antineoplastics, anthraquinone derivatives</td>\n",
       "      <td>'-antrone(-antrone)'</td>\n",
       "      <td>...</td>\n",
       "      <td>Achiral Molecule</td>\n",
       "      <td>0</td>\n",
       "      <td>0</td>\n",
       "      <td>0</td>\n",
       "      <td>0</td>\n",
       "      <td>0</td>\n",
       "      <td>Unknown</td>\n",
       "      <td>CNCCNc1ccc2c3c(nn2CCNCCO)-c2cnccc2C(=O)c13</td>\n",
       "      <td>&lt;rdkit.Chem.rdchem.Mol object at 0x0000018A023...</td>\n",
       "      <td>True</td>\n",
       "    </tr>\n",
       "    <tr>\n",
       "      <th>4172</th>\n",
       "      <td>CHEMBL2104994</td>\n",
       "      <td>INDISETRON</td>\n",
       "      <td>INDISETRON</td>\n",
       "      <td>NaN</td>\n",
       "      <td>-1.0</td>\n",
       "      <td>NaN</td>\n",
       "      <td>'-setron'</td>\n",
       "      <td>NaN</td>\n",
       "      <td>serotonin 5-HT3 receptor antagonists</td>\n",
       "      <td>'-setron(-setron)'</td>\n",
       "      <td>...</td>\n",
       "      <td>Single Stereoisomer</td>\n",
       "      <td>0</td>\n",
       "      <td>0</td>\n",
       "      <td>0</td>\n",
       "      <td>0</td>\n",
       "      <td>0</td>\n",
       "      <td>Unknown</td>\n",
       "      <td>CN1C[C@H]2C[C@@H](NC(=O)c3n[nH]c4ccccc34)C[C@@...</td>\n",
       "      <td>&lt;rdkit.Chem.rdchem.Mol object at 0x0000018A024...</td>\n",
       "      <td>True</td>\n",
       "    </tr>\n",
       "    <tr>\n",
       "      <th>5144</th>\n",
       "      <td>CHEMBL38458</td>\n",
       "      <td>LEDOXANTRONE</td>\n",
       "      <td>LEDOXANTRONE|SEDOXANTRONE</td>\n",
       "      <td>NaN</td>\n",
       "      <td>-1.0</td>\n",
       "      <td>NaN</td>\n",
       "      <td>'-antrone'</td>\n",
       "      <td>1996.0</td>\n",
       "      <td>antineoplastics, anthraquinone derivatives</td>\n",
       "      <td>'-antrone(-antrone)'</td>\n",
       "      <td>...</td>\n",
       "      <td>Achiral Molecule</td>\n",
       "      <td>0</td>\n",
       "      <td>0</td>\n",
       "      <td>0</td>\n",
       "      <td>0</td>\n",
       "      <td>0</td>\n",
       "      <td>Unknown</td>\n",
       "      <td>CCN(CC)CCn1nc2c3c(c(NCCN)ccc31)Sc1cc(O)ccc1-2</td>\n",
       "      <td>&lt;rdkit.Chem.rdchem.Mol object at 0x0000018A024...</td>\n",
       "      <td>True</td>\n",
       "    </tr>\n",
       "    <tr>\n",
       "      <th>5206</th>\n",
       "      <td>CHEMBL4650325</td>\n",
       "      <td>VEMIRCOPAN</td>\n",
       "      <td>ACH-0145228|ACH-5228|VEMIRCOPAN</td>\n",
       "      <td>ACH-0145228|ACH-5228</td>\n",
       "      <td>1.0</td>\n",
       "      <td>NaN</td>\n",
       "      <td>'-copan'</td>\n",
       "      <td>NaN</td>\n",
       "      <td>complement receptor antagonists/complement inh...</td>\n",
       "      <td>'-copan(-copan)'</td>\n",
       "      <td>...</td>\n",
       "      <td>Single Stereoisomer</td>\n",
       "      <td>0</td>\n",
       "      <td>0</td>\n",
       "      <td>0</td>\n",
       "      <td>0</td>\n",
       "      <td>0</td>\n",
       "      <td>Unknown</td>\n",
       "      <td>CC(=O)c1nn(CC(=O)N2[C@H](C(=O)Nc3nc(Br)ccc3C)C...</td>\n",
       "      <td>&lt;rdkit.Chem.rdchem.Mol object at 0x0000018A024...</td>\n",
       "      <td>True</td>\n",
       "    </tr>\n",
       "  </tbody>\n",
       "</table>\n",
       "<p>5 rows × 31 columns</p>\n",
       "</div>"
      ],
      "text/plain": [
       "     Parent Molecule             Name  \\\n",
       "870      CHEMBL24329     TELOXANTRONE   \n",
       "1171    CHEMBL150303  NORTOPIXANTRONE   \n",
       "4172   CHEMBL2104994       INDISETRON   \n",
       "5144     CHEMBL38458     LEDOXANTRONE   \n",
       "5206   CHEMBL4650325       VEMIRCOPAN   \n",
       "\n",
       "                                               Synonyms        Research Codes  \\\n",
       "870                       CI-937|PD-113309|TELOXANTRONE      CI-937|PD-113309   \n",
       "1171  BBR 3438|BBR-3438|NORTOPIXANTRONE|Nortopixantrone     BBR 3438|BBR-3438   \n",
       "4172                                         INDISETRON                   NaN   \n",
       "5144                          LEDOXANTRONE|SEDOXANTRONE                   NaN   \n",
       "5206                    ACH-0145228|ACH-5228|VEMIRCOPAN  ACH-0145228|ACH-5228   \n",
       "\n",
       "      Phase Drug Applicants   USAN Stem  USAN Year  \\\n",
       "870    -1.0             NaN  '-antrone'     1992.0   \n",
       "1171   -1.0             NaN  '-antrone'        NaN   \n",
       "4172   -1.0             NaN   '-setron'        NaN   \n",
       "5144   -1.0             NaN  '-antrone'     1996.0   \n",
       "5206    1.0             NaN    '-copan'        NaN   \n",
       "\n",
       "                                        USAN Definition   USAN Stem - Substem  \\\n",
       "870          antineoplastics, anthraquinone derivatives  '-antrone(-antrone)'   \n",
       "1171         antineoplastics, anthraquinone derivatives  '-antrone(-antrone)'   \n",
       "4172               serotonin 5-HT3 receptor antagonists    '-setron(-setron)'   \n",
       "5144         antineoplastics, anthraquinone derivatives  '-antrone(-antrone)'   \n",
       "5206  complement receptor antagonists/complement inh...      '-copan(-copan)'   \n",
       "\n",
       "      ...            Chirality Prodrug Oral Parenteral Topical Black Box  \\\n",
       "870   ...     Achiral Molecule       0    0          0       0         0   \n",
       "1171  ...     Achiral Molecule       0    0          0       0         0   \n",
       "4172  ...  Single Stereoisomer       0    0          0       0         0   \n",
       "5144  ...     Achiral Molecule       0    0          0       0         0   \n",
       "5206  ...  Single Stereoisomer       0    0          0       0         0   \n",
       "\n",
       "     Availability Type                                             Smiles  \\\n",
       "870            Unknown   CNCCNc1ccc2c3c(nn2CCNCCO)-c2c(O)ccc(O)c2C(=O)c13   \n",
       "1171           Unknown         CNCCNc1ccc2c3c(nn2CCNCCO)-c2cnccc2C(=O)c13   \n",
       "4172           Unknown  CN1C[C@H]2C[C@@H](NC(=O)c3n[nH]c4ccccc34)C[C@@...   \n",
       "5144           Unknown      CCN(CC)CCn1nc2c3c(c(NCCN)ccc31)Sc1cc(O)ccc1-2   \n",
       "5206           Unknown  CC(=O)c1nn(CC(=O)N2[C@H](C(=O)Nc3nc(Br)ccc3C)C...   \n",
       "\n",
       "                                                    mol  has_indazole  \n",
       "870   <rdkit.Chem.rdchem.Mol object at 0x0000018A023...          True  \n",
       "1171  <rdkit.Chem.rdchem.Mol object at 0x0000018A023...          True  \n",
       "4172  <rdkit.Chem.rdchem.Mol object at 0x0000018A024...          True  \n",
       "5144  <rdkit.Chem.rdchem.Mol object at 0x0000018A024...          True  \n",
       "5206  <rdkit.Chem.rdchem.Mol object at 0x0000018A024...          True  \n",
       "\n",
       "[5 rows x 31 columns]"
      ]
     },
     "execution_count": 21,
     "metadata": {},
     "output_type": "execute_result"
    }
   ],
   "source": [
    "# 1) only keep those with the motif\n",
    "df_fil = df[df['has_indazole']]\n",
    "df_fil.head()"
   ]
  },
  {
   "cell_type": "markdown",
   "metadata": {},
   "source": [
    "In order to filter by target/mechanism of action, we will look at the USAN Definitions, which tell us the type of molecules we're dealing with."
   ]
  },
  {
   "cell_type": "code",
   "execution_count": 22,
   "metadata": {},
   "outputs": [
    {
     "data": {
      "text/plain": [
       "['antineoplastics, anthraquinone derivatives',\n",
       " 'serotonin 5-HT3 receptor antagonists',\n",
       " 'complement receptor antagonists/complement inhibitors',\n",
       " 'antiasthmatics/antiallergics (not acting primarily as antihistamines)',\n",
       " 'serotonin 5-HT6 receptor inhibitors',\n",
       " 'estrogens; estrogen antagonists',\n",
       " 'phosphatidylinositol 3-kinase (PI3K) inhibitors',\n",
       " 'antirheumatics (lobenzarit type)',\n",
       " 'cyclin dependent kinase inhibitors (formerly-cidib)',\n",
       " 'tyrosine kinase inhibitors: tropomyosin receptor kinase (TRK) inhibitors',\n",
       " 'glucocorticoid receptor agonists ( not glucocorticoids)',\n",
       " 'immunomodulators: mitogen-activated protein (MAP) kinase inhibitors',\n",
       " 'vasodilators (undefined group): Rho protein kinase (ROCK) inhibitors',\n",
       " 'anti-inflammatory agents (acetic acid derivatives)',\n",
       " 'angiogenesis inhibitors',\n",
       " 'vinca alkaloids; WNT (wingless-type mouse mammary tumor virus) pathway inhibitors',\n",
       " 'tyrosine kinase inhibitors',\n",
       " 'tyrosine kinase inhibitors: tyrosine kinase inhibitors; janus kinase inhibitors',\n",
       " 'tyrosine kinase inhibitors: tyrosine kinase inhibitors; MEK (MAPK kinase) inhibitors',\n",
       " 'antivirals: viral capsid inhibitors',\n",
       " 'poly-ADP-ribose polymerase inhibitors',\n",
       " 'calcitonin gene-related peptide receptor antagonists']"
      ]
     },
     "execution_count": 22,
     "metadata": {},
     "output_type": "execute_result"
    }
   ],
   "source": [
    "# extract all USAN Definitions\n",
    "moa = df_fil['USAN Definition'].unique().tolist()\n",
    "moa"
   ]
  },
  {
   "cell_type": "code",
   "execution_count": 23,
   "metadata": {},
   "outputs": [
    {
     "data": {
      "text/plain": [
       "antineoplastics, anthraquinone derivatives                                              6\n",
       "tyrosine kinase inhibitors                                                              4\n",
       "angiogenesis inhibitors                                                                 2\n",
       "complement receptor antagonists/complement inhibitors                                   2\n",
       "estrogens; estrogen antagonists                                                         2\n",
       "phosphatidylinositol 3-kinase (PI3K) inhibitors                                         2\n",
       "cyclin dependent kinase inhibitors (formerly-cidib)                                     2\n",
       "serotonin 5-HT3 receptor antagonists                                                    2\n",
       "poly-ADP-ribose polymerase inhibitors                                                   1\n",
       "antivirals: viral capsid inhibitors                                                     1\n",
       "tyrosine kinase inhibitors: tyrosine kinase inhibitors; MEK (MAPK kinase) inhibitors    1\n",
       "tyrosine kinase inhibitors: tyrosine kinase inhibitors; janus kinase inhibitors         1\n",
       "vinca alkaloids; WNT (wingless-type mouse mammary tumor virus) pathway inhibitors       1\n",
       "immunomodulators: mitogen-activated protein (MAP) kinase inhibitors                     1\n",
       "anti-inflammatory agents (acetic acid derivatives)                                      1\n",
       "vasodilators (undefined group): Rho protein kinase (ROCK) inhibitors                    1\n",
       "glucocorticoid receptor agonists ( not glucocorticoids)                                 1\n",
       "tyrosine kinase inhibitors: tropomyosin receptor kinase (TRK) inhibitors                1\n",
       "antirheumatics (lobenzarit type)                                                        1\n",
       "serotonin 5-HT6 receptor inhibitors                                                     1\n",
       "antiasthmatics/antiallergics (not acting primarily as antihistamines)                   1\n",
       "calcitonin gene-related peptide receptor antagonists                                    1\n",
       "Name: USAN Definition, dtype: int64"
      ]
     },
     "execution_count": 23,
     "metadata": {},
     "output_type": "execute_result"
    }
   ],
   "source": [
    "# counts of moa in df_fil\n",
    "df_fil['USAN Definition'].value_counts()"
   ]
  },
  {
   "cell_type": "markdown",
   "metadata": {},
   "source": [
    "In this list by counts of molecules, we can see that anticancer drugs (antineoplastics) are the most common but also \"tyrosine kinase inhibitors\" are frequent. They appear with different names. Filter the dataframe so that the row `USAN Definitions` only needs to contain the string but does not need to match completely."
   ]
  },
  {
   "cell_type": "code",
   "execution_count": 24,
   "metadata": {},
   "outputs": [
    {
     "data": {
      "text/html": [
       "<div>\n",
       "<style scoped>\n",
       "    .dataframe tbody tr th:only-of-type {\n",
       "        vertical-align: middle;\n",
       "    }\n",
       "\n",
       "    .dataframe tbody tr th {\n",
       "        vertical-align: top;\n",
       "    }\n",
       "\n",
       "    .dataframe thead th {\n",
       "        text-align: right;\n",
       "    }\n",
       "</style>\n",
       "<table border=\"1\" class=\"dataframe\">\n",
       "  <thead>\n",
       "    <tr style=\"text-align: right;\">\n",
       "      <th></th>\n",
       "      <th>Parent Molecule</th>\n",
       "      <th>Name</th>\n",
       "      <th>Synonyms</th>\n",
       "      <th>Research Codes</th>\n",
       "      <th>Phase</th>\n",
       "      <th>Drug Applicants</th>\n",
       "      <th>USAN Stem</th>\n",
       "      <th>USAN Year</th>\n",
       "      <th>USAN Definition</th>\n",
       "      <th>USAN Stem - Substem</th>\n",
       "      <th>...</th>\n",
       "      <th>Chirality</th>\n",
       "      <th>Prodrug</th>\n",
       "      <th>Oral</th>\n",
       "      <th>Parenteral</th>\n",
       "      <th>Topical</th>\n",
       "      <th>Black Box</th>\n",
       "      <th>Availability Type</th>\n",
       "      <th>Smiles</th>\n",
       "      <th>mol</th>\n",
       "      <th>has_indazole</th>\n",
       "    </tr>\n",
       "  </thead>\n",
       "  <tbody>\n",
       "    <tr>\n",
       "      <th>10369</th>\n",
       "      <td>CHEMBL1983268</td>\n",
       "      <td>ENTRECTINIB</td>\n",
       "      <td>ENTRECTINIB|NMS-E628|ROZLYTREK|RXDX-101</td>\n",
       "      <td>NMS-E628|RXDX-101</td>\n",
       "      <td>4.0</td>\n",
       "      <td>Genentech Inc</td>\n",
       "      <td>'-tinib'</td>\n",
       "      <td>2015.0</td>\n",
       "      <td>tyrosine kinase inhibitors: tropomyosin recept...</td>\n",
       "      <td>'-tinib(-tinib (-trectinib))'</td>\n",
       "      <td>...</td>\n",
       "      <td>Achiral Molecule</td>\n",
       "      <td>0</td>\n",
       "      <td>1</td>\n",
       "      <td>0</td>\n",
       "      <td>0</td>\n",
       "      <td>0</td>\n",
       "      <td>Prescription Only</td>\n",
       "      <td>CN1CCN(c2ccc(C(=O)Nc3n[nH]c4ccc(Cc5cc(F)cc(F)c...</td>\n",
       "      <td>&lt;rdkit.Chem.rdchem.Mol object at 0x0000018A024...</td>\n",
       "      <td>True</td>\n",
       "    </tr>\n",
       "    <tr>\n",
       "      <th>13123</th>\n",
       "      <td>CHEMBL1289926</td>\n",
       "      <td>AXITINIB</td>\n",
       "      <td>AG-013736|AG-13736|AXITINIB|INLYTA|NSC-757441</td>\n",
       "      <td>AG-013736|AG-13736|NSC-757441</td>\n",
       "      <td>4.0</td>\n",
       "      <td>Pf Prism Cv</td>\n",
       "      <td>'-tinib'</td>\n",
       "      <td>2005.0</td>\n",
       "      <td>tyrosine kinase inhibitors</td>\n",
       "      <td>'-tinib(-tinib)'</td>\n",
       "      <td>...</td>\n",
       "      <td>Achiral Molecule</td>\n",
       "      <td>0</td>\n",
       "      <td>1</td>\n",
       "      <td>0</td>\n",
       "      <td>0</td>\n",
       "      <td>0</td>\n",
       "      <td>Prescription Only</td>\n",
       "      <td>CNC(=O)c1ccccc1Sc1ccc2c(/C=C/c3ccccn3)n[nH]c2c1</td>\n",
       "      <td>&lt;rdkit.Chem.rdchem.Mol object at 0x0000018A024...</td>\n",
       "      <td>True</td>\n",
       "    </tr>\n",
       "    <tr>\n",
       "      <th>13193</th>\n",
       "      <td>CHEMBL4802163</td>\n",
       "      <td>NEZULCITINIB</td>\n",
       "      <td>NEZULCITINIB|TD-0903|THRX-136377</td>\n",
       "      <td>TD-0903|THRX-136377</td>\n",
       "      <td>2.0</td>\n",
       "      <td>NaN</td>\n",
       "      <td>'-tinib'</td>\n",
       "      <td>2021.0</td>\n",
       "      <td>tyrosine kinase inhibitors: tyrosine kinase in...</td>\n",
       "      <td>'-tinib(-tinib (-citinib))'</td>\n",
       "      <td>...</td>\n",
       "      <td>Single Stereoisomer</td>\n",
       "      <td>0</td>\n",
       "      <td>0</td>\n",
       "      <td>0</td>\n",
       "      <td>0</td>\n",
       "      <td>0</td>\n",
       "      <td>Unknown</td>\n",
       "      <td>CCc1cc(O)ccc1-c1ccc2c(-c3nc4c([nH]3)C[C@@H](C(...</td>\n",
       "      <td>&lt;rdkit.Chem.rdchem.Mol object at 0x0000018A024...</td>\n",
       "      <td>True</td>\n",
       "    </tr>\n",
       "    <tr>\n",
       "      <th>13310</th>\n",
       "      <td>CHEMBL3991932</td>\n",
       "      <td>PEXMETINIB</td>\n",
       "      <td>ARRY-614|PEXMETINIB|Pexmetinib</td>\n",
       "      <td>ARRY-614</td>\n",
       "      <td>1.0</td>\n",
       "      <td>NaN</td>\n",
       "      <td>'-tinib'</td>\n",
       "      <td>NaN</td>\n",
       "      <td>tyrosine kinase inhibitors: tyrosine kinase in...</td>\n",
       "      <td>'-tinib(-tinib (-metinib))'</td>\n",
       "      <td>...</td>\n",
       "      <td>Achiral Molecule</td>\n",
       "      <td>0</td>\n",
       "      <td>0</td>\n",
       "      <td>0</td>\n",
       "      <td>0</td>\n",
       "      <td>0</td>\n",
       "      <td>Unknown</td>\n",
       "      <td>Cc1ccc(-n2nc(C(C)(C)C)cc2NC(=O)NCc2cc(F)ccc2Oc...</td>\n",
       "      <td>&lt;rdkit.Chem.rdchem.Mol object at 0x0000018A024...</td>\n",
       "      <td>True</td>\n",
       "    </tr>\n",
       "    <tr>\n",
       "      <th>13556</th>\n",
       "      <td>CHEMBL3545307</td>\n",
       "      <td>MERESTINIB</td>\n",
       "      <td>LY-2801653|LY2801653|MERESTINIB</td>\n",
       "      <td>LY-2801653|LY2801653</td>\n",
       "      <td>2.0</td>\n",
       "      <td>NaN</td>\n",
       "      <td>'-tinib'</td>\n",
       "      <td>2014.0</td>\n",
       "      <td>tyrosine kinase inhibitors</td>\n",
       "      <td>'-tinib(-tinib)'</td>\n",
       "      <td>...</td>\n",
       "      <td>Achiral Molecule</td>\n",
       "      <td>0</td>\n",
       "      <td>0</td>\n",
       "      <td>0</td>\n",
       "      <td>0</td>\n",
       "      <td>0</td>\n",
       "      <td>Unknown</td>\n",
       "      <td>Cc1ccc(C(=O)Nc2ccc(Oc3cc4cnn(C)c4cc3-c3cn[nH]c...</td>\n",
       "      <td>&lt;rdkit.Chem.rdchem.Mol object at 0x0000018A024...</td>\n",
       "      <td>True</td>\n",
       "    </tr>\n",
       "    <tr>\n",
       "      <th>14194</th>\n",
       "      <td>CHEMBL3265032</td>\n",
       "      <td>ENTOSPLETINIB</td>\n",
       "      <td>ENTOSPLETINIB|Entospletinib|GS-9973|SYK INHIBI...</td>\n",
       "      <td>GS-9973|SYK INHIBITOR GS-9973</td>\n",
       "      <td>3.0</td>\n",
       "      <td>NaN</td>\n",
       "      <td>'-tinib'</td>\n",
       "      <td>2015.0</td>\n",
       "      <td>tyrosine kinase inhibitors</td>\n",
       "      <td>'-tinib(-tinib)'</td>\n",
       "      <td>...</td>\n",
       "      <td>Achiral Molecule</td>\n",
       "      <td>0</td>\n",
       "      <td>0</td>\n",
       "      <td>0</td>\n",
       "      <td>0</td>\n",
       "      <td>0</td>\n",
       "      <td>Unknown</td>\n",
       "      <td>c1cn2cc(-c3ccc4cn[nH]c4c3)nc(Nc3ccc(N4CCOCC4)c...</td>\n",
       "      <td>&lt;rdkit.Chem.rdchem.Mol object at 0x0000018A024...</td>\n",
       "      <td>True</td>\n",
       "    </tr>\n",
       "    <tr>\n",
       "      <th>14426</th>\n",
       "      <td>CHEMBL4650443</td>\n",
       "      <td>VEBRELTINIB</td>\n",
       "      <td>APL-101|BOZITINIB|CBI-3103|CBT-101|PLB-1001|VE...</td>\n",
       "      <td>APL-101|CBI-3103|CBT-101|PLB-1001</td>\n",
       "      <td>1.0</td>\n",
       "      <td>NaN</td>\n",
       "      <td>'-tinib'</td>\n",
       "      <td>2021.0</td>\n",
       "      <td>tyrosine kinase inhibitors</td>\n",
       "      <td>'-tinib(-tinib)'</td>\n",
       "      <td>...</td>\n",
       "      <td>Achiral Molecule</td>\n",
       "      <td>0</td>\n",
       "      <td>0</td>\n",
       "      <td>0</td>\n",
       "      <td>0</td>\n",
       "      <td>0</td>\n",
       "      <td>Unknown</td>\n",
       "      <td>Cn1cc2cc(C(F)(F)c3nnc4ccc(-c5cnn(C6CC6)c5)nn34...</td>\n",
       "      <td>&lt;rdkit.Chem.rdchem.Mol object at 0x0000018A024...</td>\n",
       "      <td>True</td>\n",
       "    </tr>\n",
       "  </tbody>\n",
       "</table>\n",
       "<p>7 rows × 31 columns</p>\n",
       "</div>"
      ],
      "text/plain": [
       "      Parent Molecule           Name  \\\n",
       "10369   CHEMBL1983268    ENTRECTINIB   \n",
       "13123   CHEMBL1289926       AXITINIB   \n",
       "13193   CHEMBL4802163   NEZULCITINIB   \n",
       "13310   CHEMBL3991932     PEXMETINIB   \n",
       "13556   CHEMBL3545307     MERESTINIB   \n",
       "14194   CHEMBL3265032  ENTOSPLETINIB   \n",
       "14426   CHEMBL4650443    VEBRELTINIB   \n",
       "\n",
       "                                                Synonyms  \\\n",
       "10369            ENTRECTINIB|NMS-E628|ROZLYTREK|RXDX-101   \n",
       "13123      AG-013736|AG-13736|AXITINIB|INLYTA|NSC-757441   \n",
       "13193                   NEZULCITINIB|TD-0903|THRX-136377   \n",
       "13310                     ARRY-614|PEXMETINIB|Pexmetinib   \n",
       "13556                    LY-2801653|LY2801653|MERESTINIB   \n",
       "14194  ENTOSPLETINIB|Entospletinib|GS-9973|SYK INHIBI...   \n",
       "14426  APL-101|BOZITINIB|CBI-3103|CBT-101|PLB-1001|VE...   \n",
       "\n",
       "                          Research Codes  Phase Drug Applicants USAN Stem  \\\n",
       "10369                  NMS-E628|RXDX-101    4.0   Genentech Inc  '-tinib'   \n",
       "13123      AG-013736|AG-13736|NSC-757441    4.0     Pf Prism Cv  '-tinib'   \n",
       "13193                TD-0903|THRX-136377    2.0             NaN  '-tinib'   \n",
       "13310                           ARRY-614    1.0             NaN  '-tinib'   \n",
       "13556               LY-2801653|LY2801653    2.0             NaN  '-tinib'   \n",
       "14194      GS-9973|SYK INHIBITOR GS-9973    3.0             NaN  '-tinib'   \n",
       "14426  APL-101|CBI-3103|CBT-101|PLB-1001    1.0             NaN  '-tinib'   \n",
       "\n",
       "       USAN Year                                    USAN Definition  \\\n",
       "10369     2015.0  tyrosine kinase inhibitors: tropomyosin recept...   \n",
       "13123     2005.0                         tyrosine kinase inhibitors   \n",
       "13193     2021.0  tyrosine kinase inhibitors: tyrosine kinase in...   \n",
       "13310        NaN  tyrosine kinase inhibitors: tyrosine kinase in...   \n",
       "13556     2014.0                         tyrosine kinase inhibitors   \n",
       "14194     2015.0                         tyrosine kinase inhibitors   \n",
       "14426     2021.0                         tyrosine kinase inhibitors   \n",
       "\n",
       "                 USAN Stem - Substem  ...            Chirality Prodrug Oral  \\\n",
       "10369  '-tinib(-tinib (-trectinib))'  ...     Achiral Molecule       0    1   \n",
       "13123               '-tinib(-tinib)'  ...     Achiral Molecule       0    1   \n",
       "13193    '-tinib(-tinib (-citinib))'  ...  Single Stereoisomer       0    0   \n",
       "13310    '-tinib(-tinib (-metinib))'  ...     Achiral Molecule       0    0   \n",
       "13556               '-tinib(-tinib)'  ...     Achiral Molecule       0    0   \n",
       "14194               '-tinib(-tinib)'  ...     Achiral Molecule       0    0   \n",
       "14426               '-tinib(-tinib)'  ...     Achiral Molecule       0    0   \n",
       "\n",
       "      Parenteral Topical Black Box  Availability Type  \\\n",
       "10369          0       0         0  Prescription Only   \n",
       "13123          0       0         0  Prescription Only   \n",
       "13193          0       0         0            Unknown   \n",
       "13310          0       0         0            Unknown   \n",
       "13556          0       0         0            Unknown   \n",
       "14194          0       0         0            Unknown   \n",
       "14426          0       0         0            Unknown   \n",
       "\n",
       "                                                  Smiles  \\\n",
       "10369  CN1CCN(c2ccc(C(=O)Nc3n[nH]c4ccc(Cc5cc(F)cc(F)c...   \n",
       "13123    CNC(=O)c1ccccc1Sc1ccc2c(/C=C/c3ccccn3)n[nH]c2c1   \n",
       "13193  CCc1cc(O)ccc1-c1ccc2c(-c3nc4c([nH]3)C[C@@H](C(...   \n",
       "13310  Cc1ccc(-n2nc(C(C)(C)C)cc2NC(=O)NCc2cc(F)ccc2Oc...   \n",
       "13556  Cc1ccc(C(=O)Nc2ccc(Oc3cc4cnn(C)c4cc3-c3cn[nH]c...   \n",
       "14194  c1cn2cc(-c3ccc4cn[nH]c4c3)nc(Nc3ccc(N4CCOCC4)c...   \n",
       "14426  Cn1cc2cc(C(F)(F)c3nnc4ccc(-c5cnn(C6CC6)c5)nn34...   \n",
       "\n",
       "                                                     mol  has_indazole  \n",
       "10369  <rdkit.Chem.rdchem.Mol object at 0x0000018A024...          True  \n",
       "13123  <rdkit.Chem.rdchem.Mol object at 0x0000018A024...          True  \n",
       "13193  <rdkit.Chem.rdchem.Mol object at 0x0000018A024...          True  \n",
       "13310  <rdkit.Chem.rdchem.Mol object at 0x0000018A024...          True  \n",
       "13556  <rdkit.Chem.rdchem.Mol object at 0x0000018A024...          True  \n",
       "14194  <rdkit.Chem.rdchem.Mol object at 0x0000018A024...          True  \n",
       "14426  <rdkit.Chem.rdchem.Mol object at 0x0000018A024...          True  \n",
       "\n",
       "[7 rows x 31 columns]"
      ]
     },
     "execution_count": 24,
     "metadata": {},
     "output_type": "execute_result"
    }
   ],
   "source": [
    "# 2) only keep tyrosine kinase inhibitors\n",
    "tki = df_fil[df_fil['USAN Definition'].str.contains(\"tyrosine kinase inhibitor\")]\n",
    "tki"
   ]
  },
  {
   "cell_type": "code",
   "execution_count": 25,
   "metadata": {},
   "outputs": [
    {
     "ename": "FileNotFoundError",
     "evalue": "No such file or directory: '<PIL.Image.Image image mode=RGBA size=1500x600 at 0x18A7D82ADD0>'",
     "output_type": "error",
     "traceback": [
      "\u001b[1;31m---------------------------------------------------------------------------\u001b[0m",
      "\u001b[1;31mTypeError\u001b[0m                                 Traceback (most recent call last)",
      "File \u001b[1;32m~\\anaconda3\\envs\\practical_programming\\lib\\site-packages\\IPython\\core\\display.py:1045\u001b[0m, in \u001b[0;36mImage._data_and_metadata\u001b[1;34m(self, always_both)\u001b[0m\n\u001b[0;32m   1044\u001b[0m \u001b[38;5;28;01mtry\u001b[39;00m:\n\u001b[1;32m-> 1045\u001b[0m     b64_data \u001b[38;5;241m=\u001b[39m \u001b[43mb2a_base64\u001b[49m\u001b[43m(\u001b[49m\u001b[38;5;28;43mself\u001b[39;49m\u001b[38;5;241;43m.\u001b[39;49m\u001b[43mdata\u001b[49m\u001b[43m,\u001b[49m\u001b[43m \u001b[49m\u001b[43mnewline\u001b[49m\u001b[38;5;241;43m=\u001b[39;49m\u001b[38;5;28;43;01mFalse\u001b[39;49;00m\u001b[43m)\u001b[49m\u001b[38;5;241m.\u001b[39mdecode(\u001b[38;5;124m\"\u001b[39m\u001b[38;5;124mascii\u001b[39m\u001b[38;5;124m\"\u001b[39m)\n\u001b[0;32m   1046\u001b[0m \u001b[38;5;28;01mexcept\u001b[39;00m \u001b[38;5;167;01mTypeError\u001b[39;00m \u001b[38;5;28;01mas\u001b[39;00m e:\n",
      "\u001b[1;31mTypeError\u001b[0m: a bytes-like object is required, not 'Image'",
      "\nThe above exception was the direct cause of the following exception:\n",
      "\u001b[1;31mFileNotFoundError\u001b[0m                         Traceback (most recent call last)",
      "File \u001b[1;32m~\\anaconda3\\envs\\practical_programming\\lib\\site-packages\\IPython\\core\\formatters.py:974\u001b[0m, in \u001b[0;36mMimeBundleFormatter.__call__\u001b[1;34m(self, obj, include, exclude)\u001b[0m\n\u001b[0;32m    971\u001b[0m     method \u001b[38;5;241m=\u001b[39m get_real_method(obj, \u001b[38;5;28mself\u001b[39m\u001b[38;5;241m.\u001b[39mprint_method)\n\u001b[0;32m    973\u001b[0m     \u001b[38;5;28;01mif\u001b[39;00m method \u001b[38;5;129;01mis\u001b[39;00m \u001b[38;5;129;01mnot\u001b[39;00m \u001b[38;5;28;01mNone\u001b[39;00m:\n\u001b[1;32m--> 974\u001b[0m         \u001b[38;5;28;01mreturn\u001b[39;00m \u001b[43mmethod\u001b[49m\u001b[43m(\u001b[49m\u001b[43minclude\u001b[49m\u001b[38;5;241;43m=\u001b[39;49m\u001b[43minclude\u001b[49m\u001b[43m,\u001b[49m\u001b[43m \u001b[49m\u001b[43mexclude\u001b[49m\u001b[38;5;241;43m=\u001b[39;49m\u001b[43mexclude\u001b[49m\u001b[43m)\u001b[49m\n\u001b[0;32m    975\u001b[0m     \u001b[38;5;28;01mreturn\u001b[39;00m \u001b[38;5;28;01mNone\u001b[39;00m\n\u001b[0;32m    976\u001b[0m \u001b[38;5;28;01melse\u001b[39;00m:\n",
      "File \u001b[1;32m~\\anaconda3\\envs\\practical_programming\\lib\\site-packages\\IPython\\core\\display.py:1035\u001b[0m, in \u001b[0;36mImage._repr_mimebundle_\u001b[1;34m(self, include, exclude)\u001b[0m\n\u001b[0;32m   1033\u001b[0m \u001b[38;5;28;01mif\u001b[39;00m \u001b[38;5;28mself\u001b[39m\u001b[38;5;241m.\u001b[39membed:\n\u001b[0;32m   1034\u001b[0m     mimetype \u001b[38;5;241m=\u001b[39m \u001b[38;5;28mself\u001b[39m\u001b[38;5;241m.\u001b[39m_mimetype\n\u001b[1;32m-> 1035\u001b[0m     data, metadata \u001b[38;5;241m=\u001b[39m \u001b[38;5;28;43mself\u001b[39;49m\u001b[38;5;241;43m.\u001b[39;49m\u001b[43m_data_and_metadata\u001b[49m\u001b[43m(\u001b[49m\u001b[43malways_both\u001b[49m\u001b[38;5;241;43m=\u001b[39;49m\u001b[38;5;28;43;01mTrue\u001b[39;49;00m\u001b[43m)\u001b[49m\n\u001b[0;32m   1036\u001b[0m     \u001b[38;5;28;01mif\u001b[39;00m metadata:\n\u001b[0;32m   1037\u001b[0m         metadata \u001b[38;5;241m=\u001b[39m {mimetype: metadata}\n",
      "File \u001b[1;32m~\\anaconda3\\envs\\practical_programming\\lib\\site-packages\\IPython\\core\\display.py:1047\u001b[0m, in \u001b[0;36mImage._data_and_metadata\u001b[1;34m(self, always_both)\u001b[0m\n\u001b[0;32m   1045\u001b[0m     b64_data \u001b[38;5;241m=\u001b[39m b2a_base64(\u001b[38;5;28mself\u001b[39m\u001b[38;5;241m.\u001b[39mdata, newline\u001b[38;5;241m=\u001b[39m\u001b[38;5;28;01mFalse\u001b[39;00m)\u001b[38;5;241m.\u001b[39mdecode(\u001b[38;5;124m\"\u001b[39m\u001b[38;5;124mascii\u001b[39m\u001b[38;5;124m\"\u001b[39m)\n\u001b[0;32m   1046\u001b[0m \u001b[38;5;28;01mexcept\u001b[39;00m \u001b[38;5;167;01mTypeError\u001b[39;00m \u001b[38;5;28;01mas\u001b[39;00m e:\n\u001b[1;32m-> 1047\u001b[0m     \u001b[38;5;28;01mraise\u001b[39;00m \u001b[38;5;167;01mFileNotFoundError\u001b[39;00m(\n\u001b[0;32m   1048\u001b[0m         \u001b[38;5;124m\"\u001b[39m\u001b[38;5;124mNo such file or directory: \u001b[39m\u001b[38;5;124m'\u001b[39m\u001b[38;5;132;01m%s\u001b[39;00m\u001b[38;5;124m'\u001b[39m\u001b[38;5;124m\"\u001b[39m \u001b[38;5;241m%\u001b[39m (\u001b[38;5;28mself\u001b[39m\u001b[38;5;241m.\u001b[39mdata)) \u001b[38;5;28;01mfrom\u001b[39;00m \u001b[38;5;21;01me\u001b[39;00m\n\u001b[0;32m   1049\u001b[0m md \u001b[38;5;241m=\u001b[39m {}\n\u001b[0;32m   1050\u001b[0m \u001b[38;5;28;01mif\u001b[39;00m \u001b[38;5;28mself\u001b[39m\u001b[38;5;241m.\u001b[39mmetadata:\n",
      "\u001b[1;31mFileNotFoundError\u001b[0m: No such file or directory: '<PIL.Image.Image image mode=RGBA size=1500x600 at 0x18A7D82ADD0>'"
     ]
    },
    {
     "ename": "FileNotFoundError",
     "evalue": "No such file or directory: '<PIL.Image.Image image mode=RGBA size=1500x600 at 0x18A7D82ADD0>'",
     "output_type": "error",
     "traceback": [
      "\u001b[1;31m---------------------------------------------------------------------------\u001b[0m",
      "\u001b[1;31mTypeError\u001b[0m                                 Traceback (most recent call last)",
      "File \u001b[1;32m~\\anaconda3\\envs\\practical_programming\\lib\\site-packages\\IPython\\core\\display.py:1045\u001b[0m, in \u001b[0;36mImage._data_and_metadata\u001b[1;34m(self, always_both)\u001b[0m\n\u001b[0;32m   1044\u001b[0m \u001b[38;5;28;01mtry\u001b[39;00m:\n\u001b[1;32m-> 1045\u001b[0m     b64_data \u001b[38;5;241m=\u001b[39m \u001b[43mb2a_base64\u001b[49m\u001b[43m(\u001b[49m\u001b[38;5;28;43mself\u001b[39;49m\u001b[38;5;241;43m.\u001b[39;49m\u001b[43mdata\u001b[49m\u001b[43m,\u001b[49m\u001b[43m \u001b[49m\u001b[43mnewline\u001b[49m\u001b[38;5;241;43m=\u001b[39;49m\u001b[38;5;28;43;01mFalse\u001b[39;49;00m\u001b[43m)\u001b[49m\u001b[38;5;241m.\u001b[39mdecode(\u001b[38;5;124m\"\u001b[39m\u001b[38;5;124mascii\u001b[39m\u001b[38;5;124m\"\u001b[39m)\n\u001b[0;32m   1046\u001b[0m \u001b[38;5;28;01mexcept\u001b[39;00m \u001b[38;5;167;01mTypeError\u001b[39;00m \u001b[38;5;28;01mas\u001b[39;00m e:\n",
      "\u001b[1;31mTypeError\u001b[0m: a bytes-like object is required, not 'Image'",
      "\nThe above exception was the direct cause of the following exception:\n",
      "\u001b[1;31mFileNotFoundError\u001b[0m                         Traceback (most recent call last)",
      "File \u001b[1;32m~\\anaconda3\\envs\\practical_programming\\lib\\site-packages\\IPython\\core\\formatters.py:344\u001b[0m, in \u001b[0;36mBaseFormatter.__call__\u001b[1;34m(self, obj)\u001b[0m\n\u001b[0;32m    342\u001b[0m     method \u001b[38;5;241m=\u001b[39m get_real_method(obj, \u001b[38;5;28mself\u001b[39m\u001b[38;5;241m.\u001b[39mprint_method)\n\u001b[0;32m    343\u001b[0m     \u001b[38;5;28;01mif\u001b[39;00m method \u001b[38;5;129;01mis\u001b[39;00m \u001b[38;5;129;01mnot\u001b[39;00m \u001b[38;5;28;01mNone\u001b[39;00m:\n\u001b[1;32m--> 344\u001b[0m         \u001b[38;5;28;01mreturn\u001b[39;00m \u001b[43mmethod\u001b[49m\u001b[43m(\u001b[49m\u001b[43m)\u001b[49m\n\u001b[0;32m    345\u001b[0m     \u001b[38;5;28;01mreturn\u001b[39;00m \u001b[38;5;28;01mNone\u001b[39;00m\n\u001b[0;32m    346\u001b[0m \u001b[38;5;28;01melse\u001b[39;00m:\n",
      "File \u001b[1;32m~\\anaconda3\\envs\\practical_programming\\lib\\site-packages\\IPython\\core\\display.py:1067\u001b[0m, in \u001b[0;36mImage._repr_png_\u001b[1;34m(self)\u001b[0m\n\u001b[0;32m   1065\u001b[0m \u001b[38;5;28;01mdef\u001b[39;00m \u001b[38;5;21m_repr_png_\u001b[39m(\u001b[38;5;28mself\u001b[39m):\n\u001b[0;32m   1066\u001b[0m     \u001b[38;5;28;01mif\u001b[39;00m \u001b[38;5;28mself\u001b[39m\u001b[38;5;241m.\u001b[39membed \u001b[38;5;129;01mand\u001b[39;00m \u001b[38;5;28mself\u001b[39m\u001b[38;5;241m.\u001b[39mformat \u001b[38;5;241m==\u001b[39m \u001b[38;5;28mself\u001b[39m\u001b[38;5;241m.\u001b[39m_FMT_PNG:\n\u001b[1;32m-> 1067\u001b[0m         \u001b[38;5;28;01mreturn\u001b[39;00m \u001b[38;5;28;43mself\u001b[39;49m\u001b[38;5;241;43m.\u001b[39;49m\u001b[43m_data_and_metadata\u001b[49m\u001b[43m(\u001b[49m\u001b[43m)\u001b[49m\n",
      "File \u001b[1;32m~\\anaconda3\\envs\\practical_programming\\lib\\site-packages\\IPython\\core\\display.py:1047\u001b[0m, in \u001b[0;36mImage._data_and_metadata\u001b[1;34m(self, always_both)\u001b[0m\n\u001b[0;32m   1045\u001b[0m     b64_data \u001b[38;5;241m=\u001b[39m b2a_base64(\u001b[38;5;28mself\u001b[39m\u001b[38;5;241m.\u001b[39mdata, newline\u001b[38;5;241m=\u001b[39m\u001b[38;5;28;01mFalse\u001b[39;00m)\u001b[38;5;241m.\u001b[39mdecode(\u001b[38;5;124m\"\u001b[39m\u001b[38;5;124mascii\u001b[39m\u001b[38;5;124m\"\u001b[39m)\n\u001b[0;32m   1046\u001b[0m \u001b[38;5;28;01mexcept\u001b[39;00m \u001b[38;5;167;01mTypeError\u001b[39;00m \u001b[38;5;28;01mas\u001b[39;00m e:\n\u001b[1;32m-> 1047\u001b[0m     \u001b[38;5;28;01mraise\u001b[39;00m \u001b[38;5;167;01mFileNotFoundError\u001b[39;00m(\n\u001b[0;32m   1048\u001b[0m         \u001b[38;5;124m\"\u001b[39m\u001b[38;5;124mNo such file or directory: \u001b[39m\u001b[38;5;124m'\u001b[39m\u001b[38;5;132;01m%s\u001b[39;00m\u001b[38;5;124m'\u001b[39m\u001b[38;5;124m\"\u001b[39m \u001b[38;5;241m%\u001b[39m (\u001b[38;5;28mself\u001b[39m\u001b[38;5;241m.\u001b[39mdata)) \u001b[38;5;28;01mfrom\u001b[39;00m \u001b[38;5;21;01me\u001b[39;00m\n\u001b[0;32m   1049\u001b[0m md \u001b[38;5;241m=\u001b[39m {}\n\u001b[0;32m   1050\u001b[0m \u001b[38;5;28;01mif\u001b[39;00m \u001b[38;5;28mself\u001b[39m\u001b[38;5;241m.\u001b[39mmetadata:\n",
      "\u001b[1;31mFileNotFoundError\u001b[0m: No such file or directory: '<PIL.Image.Image image mode=RGBA size=1500x600 at 0x18A7D82ADD0>'"
     ]
    },
    {
     "data": {
      "text/plain": [
       "<IPython.core.display.Image object>"
      ]
     },
     "execution_count": 25,
     "metadata": {},
     "output_type": "execute_result"
    }
   ],
   "source": [
    "# visualize the remaining TKI structures using the PandasTools.FrameToGridImage function\n",
    "PandasTools.FrameToGridImage(tki, column='mol', legendsCol=\"USAN Definition\", molsPerRow=5, subImgSize=(300, 300))"
   ]
  },
  {
   "cell_type": "markdown",
   "metadata": {},
   "source": [
    "The function [`GetSubstructMatch`](https://www.rdkit.org/docs/source/rdkit.Chem.rdchem.html#rdkit.Chem.rdchem.Mol.GetSubstructMatch) returns the indices of the atoms in the molecule that match the substructure. Let's use this function to visualize the substructure in the first molecule."
   ]
  },
  {
   "cell_type": "code",
   "execution_count": 27,
   "metadata": {},
   "outputs": [
    {
     "data": {
      "text/plain": [
       "(17, 16, 15, 29, 28, 18, 12, 13, 14)"
      ]
     },
     "execution_count": 27,
     "metadata": {},
     "output_type": "execute_result"
    }
   ],
   "source": [
    "mol = tki['mol'].iloc[0]\n",
    "match_indices = mol.GetSubstructMatch(indazole)\n",
    "match_indices"
   ]
  },
  {
   "cell_type": "code",
   "execution_count": 28,
   "metadata": {},
   "outputs": [
    {
     "data": {
      "image/png": "[encoded data removed]",
      "text/plain": [
       "<PIL.Image.Image image mode=RGBA size=300x300>"
      ]
     },
     "execution_count": 28,
     "metadata": {},
     "output_type": "execute_result"
    }
   ],
   "source": [
    "#  highlight the indazole motif using the Draw.MolToImage function\n",
    "from rdkit.Chem import Draw\n",
    "img = Draw.MolToImage(mol, highlightAtoms=match_indices)\n",
    "img"
   ]
  },
  {
   "cell_type": "markdown",
   "metadata": {},
   "source": [
    "### Thalidomide case\n",
    "Let's look at a different example:\n",
    "\n",
    "We'll extract the structure for the drug thalidomide and the substructure for the imide group. Thalidomide is a drug that was used in the late 1950s and early 1960s to treat morning sickness in pregnant women. However, it was later found to cause birth defects, and it was withdrawn from the market. The imide group is a functional group that contains a carbonyl group bonded to a nitrogen atom. Only the R-enantiomer of thalidomide is effective as a sedative, while the S-enantiomer is teratogenic. The imide group is present in both enantiomers. Let's check which enantiomer of thalidomide is present in our database."
   ]
  },
  {
   "cell_type": "code",
   "execution_count": 29,
   "metadata": {},
   "outputs": [
    {
     "data": {
      "image/png": "[encoded data removed]",
      "text/plain": [
       "<rdkit.Chem.rdchem.Mol at 0x18a024bec70>"
      ]
     },
     "execution_count": 29,
     "metadata": {},
     "output_type": "execute_result"
    }
   ],
   "source": [
    "s_thalidomide = Chem.MolFromSmiles('O=C1c2ccccc2C(=O)N1[C@H]3CCC(=O)NC3=O')\n",
    "s_thalidomide"
   ]
  },
  {
   "cell_type": "code",
   "execution_count": 30,
   "metadata": {},
   "outputs": [
    {
     "data": {
      "text/plain": [
       "rdkit.Chem.rdchem.Mol"
      ]
     },
     "execution_count": 30,
     "metadata": {},
     "output_type": "execute_result"
    }
   ],
   "source": [
    "# find the Thalidomide molecule object in the dataframe\n",
    "thalidomide = df[df[\"Name\"] == \"THALIDOMIDE\"]['mol'].values[0]\n",
    "type(thalidomide)"
   ]
  },
  {
   "cell_type": "code",
   "execution_count": 31,
   "metadata": {},
   "outputs": [
    {
     "data": {
      "text/plain": [
       "True"
      ]
     },
     "execution_count": 31,
     "metadata": {},
     "output_type": "execute_result"
    }
   ],
   "source": [
    "# check if the Thalidomide molecule object has the S motif using the HasSubstructMatch function\n",
    "thalidomide.HasSubstructMatch(s_thalidomide)"
   ]
  },
  {
   "cell_type": "code",
   "execution_count": 32,
   "metadata": {},
   "outputs": [
    {
     "data": {
      "image/png": "[encoded data removed]",
      "text/plain": [
       "<rdkit.Chem.rdchem.Mol at 0x18a0244d070>"
      ]
     },
     "execution_count": 32,
     "metadata": {},
     "output_type": "execute_result"
    }
   ],
   "source": [
    "thalidomide"
   ]
  },
  {
   "cell_type": "markdown",
   "metadata": {},
   "source": [
    "It tells us that the molecule does contain the s-enantiomer. However, when we look at the molecule, we see that actually no stereochemistry is defined. RDKit does not consider stereochemistry by default when searching for substructures. We can change this by setting the `useChirality` parameter to `True`. Let's see if we can find the s-enantiomer of thalidomide in our database."
   ]
  },
  {
   "cell_type": "code",
   "execution_count": 33,
   "metadata": {},
   "outputs": [
    {
     "data": {
      "text/plain": [
       "False"
      ]
     },
     "execution_count": 33,
     "metadata": {},
     "output_type": "execute_result"
    }
   ],
   "source": [
    "# check if thalidomide contains the S-enantiomer by enforcing chirality\n",
    "thalidomide.HasSubstructMatch(s_thalidomide, useChirality=True)"
   ]
  },
  {
   "cell_type": "markdown",
   "metadata": {},
   "source": [
    "In this example, we query for the full molecule and not just a substructure. This is actually a good approach to check if two molecules are identical or not."
   ]
  },
  {
   "cell_type": "markdown",
   "metadata": {},
   "source": [
    "### Maximum common substructure (MCS)\n",
    "Back to our example with tyrosine kinase inhibitors:\n",
    "\n",
    "We saw that with prior knowledge on which substructure to look for we can find interesting typrosine kinase inhibitors that are found in chemotherapeutics. But what if we don't know what substructure to look for? This is where the maximum common substructure (MCS) comes in. The MCS is the largest common substructure between two molecules. It can be used to find the common substructure between two molecules, which can be useful in many applications, such as finding the common substructure between two molecules, or finding the common substructure between two molecules. The MCS can be found using the `rdkit.Chem.rdFMCS` module."
   ]
  },
  {
   "cell_type": "code",
   "execution_count": 34,
   "metadata": {},
   "outputs": [],
   "source": [
    "from rdkit.Chem import rdFMCS"
   ]
  },
  {
   "cell_type": "code",
   "execution_count": 35,
   "metadata": {},
   "outputs": [
    {
     "data": {
      "image/png": "[encoded data removed]",
      "text/plain": [
       "<rdkit.Chem.rdchem.Mol at 0x18a024a5d20>"
      ]
     },
     "execution_count": 35,
     "metadata": {},
     "output_type": "execute_result"
    }
   ],
   "source": [
    "tki_mols = tki['mol'].tolist()\n",
    "tki_mols[0]"
   ]
  },
  {
   "cell_type": "markdown",
   "metadata": {},
   "source": [
    "Now, let's find the MCS between the list of molecules. Use the [`rdFMCS.FindMCS`](https://www.rdkit.org/docs/source/rdkit.Chem.rdFMCS.html) function. What does this function return and how can you visualize it?"
   ]
  },
  {
   "cell_type": "code",
   "execution_count": 36,
   "metadata": {},
   "outputs": [
    {
     "data": {
      "text/plain": [
       "<rdkit.Chem.rdFMCS.MCSResult at 0x18a024bd7e0>"
      ]
     },
     "execution_count": 36,
     "metadata": {},
     "output_type": "execute_result"
    }
   ],
   "source": [
    "mcs = rdFMCS.FindMCS(tki_mols)\n",
    "mcs"
   ]
  },
  {
   "cell_type": "markdown",
   "metadata": {},
   "source": [
    "We need to extract the SMARTS pattern from the MCS result and then visualize it. The SMARTS notation is similar to the SMILES structure in that it is string based but it described patterns rather than full structures. Here's a [link](https://ics.uci.edu/~dock/manuals/DaylightTheoryManual/theory.smarts.html#:~:text=All%20SMILES%20expressions%20are%20also,when%20used%20as%20a%20SMARTS.) on a quick overview of SMARTS for the curious."
   ]
  },
  {
   "cell_type": "code",
   "execution_count": 38,
   "metadata": {},
   "outputs": [
    {
     "data": {
      "image/png": "[encoded data removed]",
      "text/plain": [
       "<rdkit.Chem.rdchem.Mol at 0x18a024be180>"
      ]
     },
     "execution_count": 38,
     "metadata": {},
     "output_type": "execute_result"
    }
   ],
   "source": [
    "mcs_smarts = mcs.smartsString\n",
    "mcs_mol =Chem.MolFromSmarts(mcs_smarts)\n",
    "mcs_mol"
   ]
  },
  {
   "cell_type": "markdown",
   "metadata": {},
   "source": [
    "Great! This is exactly what we expected. The MCS is the substructure that we initially used to filter the molecules. Therefore, it is not surprising to find it as the MCS. What happens if we look at all the tyrosine kinase inhibitors? Will the MCS be the same?\n",
    "\n",
    "Extract all the molecules from the unflitered dataframe and find the MCS. What do you observe?"
   ]
  },
  {
   "cell_type": "code",
   "execution_count": 39,
   "metadata": {},
   "outputs": [
    {
     "data": {
      "text/plain": [
       "180"
      ]
     },
     "execution_count": 39,
     "metadata": {},
     "output_type": "execute_result"
    }
   ],
   "source": [
    "# extract all TKI molecules from the dataframe\n",
    "tki_all = df[df['USAN Definition'].str.contains(\"tyrosine kinase inhibitor\")]\n",
    "mols_all = tki_all['mol'].tolist()\n",
    "len(tki_all)"
   ]
  },
  {
   "cell_type": "code",
   "execution_count": 40,
   "metadata": {},
   "outputs": [
    {
     "data": {
      "image/png": "[encoded data removed]",
      "text/plain": [
       "<rdkit.Chem.rdchem.Mol at 0x18a024bfbc0>"
      ]
     },
     "execution_count": 40,
     "metadata": {},
     "output_type": "execute_result"
    }
   ],
   "source": [
    "# extract the MCS\n",
    "mcs = rdFMCS.FindMCS(mols_all)\n",
    "mcs_smarts = mcs.smartsString\n",
    "mcs_mol = Chem.MolFromSmarts(mcs_smarts)\n",
    "mcs_mol"
   ]
  },
  {
   "cell_type": "markdown",
   "metadata": {},
   "source": [
    "Hmmm, this looks not like what we expected. Furthermore, having so many linear molecules in a set of drugs is somewhat surprising. Let's look at a few molecules and see if that makes sense:"
   ]
  },
  {
   "cell_type": "code",
   "execution_count": 41,
   "metadata": {},
   "outputs": [
    {
     "ename": "FileNotFoundError",
     "evalue": "No such file or directory: '<PIL.Image.Image image mode=RGBA size=1500x600 at 0x18A7D84E4A0>'",
     "output_type": "error",
     "traceback": [
      "\u001b[1;31m---------------------------------------------------------------------------\u001b[0m",
      "\u001b[1;31mTypeError\u001b[0m                                 Traceback (most recent call last)",
      "File \u001b[1;32m~\\anaconda3\\envs\\practical_programming\\lib\\site-packages\\IPython\\core\\display.py:1045\u001b[0m, in \u001b[0;36mImage._data_and_metadata\u001b[1;34m(self, always_both)\u001b[0m\n\u001b[0;32m   1044\u001b[0m \u001b[38;5;28;01mtry\u001b[39;00m:\n\u001b[1;32m-> 1045\u001b[0m     b64_data \u001b[38;5;241m=\u001b[39m \u001b[43mb2a_base64\u001b[49m\u001b[43m(\u001b[49m\u001b[38;5;28;43mself\u001b[39;49m\u001b[38;5;241;43m.\u001b[39;49m\u001b[43mdata\u001b[49m\u001b[43m,\u001b[49m\u001b[43m \u001b[49m\u001b[43mnewline\u001b[49m\u001b[38;5;241;43m=\u001b[39;49m\u001b[38;5;28;43;01mFalse\u001b[39;49;00m\u001b[43m)\u001b[49m\u001b[38;5;241m.\u001b[39mdecode(\u001b[38;5;124m\"\u001b[39m\u001b[38;5;124mascii\u001b[39m\u001b[38;5;124m\"\u001b[39m)\n\u001b[0;32m   1046\u001b[0m \u001b[38;5;28;01mexcept\u001b[39;00m \u001b[38;5;167;01mTypeError\u001b[39;00m \u001b[38;5;28;01mas\u001b[39;00m e:\n",
      "\u001b[1;31mTypeError\u001b[0m: a bytes-like object is required, not 'Image'",
      "\nThe above exception was the direct cause of the following exception:\n",
      "\u001b[1;31mFileNotFoundError\u001b[0m                         Traceback (most recent call last)",
      "File \u001b[1;32m~\\anaconda3\\envs\\practical_programming\\lib\\site-packages\\IPython\\core\\formatters.py:974\u001b[0m, in \u001b[0;36mMimeBundleFormatter.__call__\u001b[1;34m(self, obj, include, exclude)\u001b[0m\n\u001b[0;32m    971\u001b[0m     method \u001b[38;5;241m=\u001b[39m get_real_method(obj, \u001b[38;5;28mself\u001b[39m\u001b[38;5;241m.\u001b[39mprint_method)\n\u001b[0;32m    973\u001b[0m     \u001b[38;5;28;01mif\u001b[39;00m method \u001b[38;5;129;01mis\u001b[39;00m \u001b[38;5;129;01mnot\u001b[39;00m \u001b[38;5;28;01mNone\u001b[39;00m:\n\u001b[1;32m--> 974\u001b[0m         \u001b[38;5;28;01mreturn\u001b[39;00m \u001b[43mmethod\u001b[49m\u001b[43m(\u001b[49m\u001b[43minclude\u001b[49m\u001b[38;5;241;43m=\u001b[39;49m\u001b[43minclude\u001b[49m\u001b[43m,\u001b[49m\u001b[43m \u001b[49m\u001b[43mexclude\u001b[49m\u001b[38;5;241;43m=\u001b[39;49m\u001b[43mexclude\u001b[49m\u001b[43m)\u001b[49m\n\u001b[0;32m    975\u001b[0m     \u001b[38;5;28;01mreturn\u001b[39;00m \u001b[38;5;28;01mNone\u001b[39;00m\n\u001b[0;32m    976\u001b[0m \u001b[38;5;28;01melse\u001b[39;00m:\n",
      "File \u001b[1;32m~\\anaconda3\\envs\\practical_programming\\lib\\site-packages\\IPython\\core\\display.py:1035\u001b[0m, in \u001b[0;36mImage._repr_mimebundle_\u001b[1;34m(self, include, exclude)\u001b[0m\n\u001b[0;32m   1033\u001b[0m \u001b[38;5;28;01mif\u001b[39;00m \u001b[38;5;28mself\u001b[39m\u001b[38;5;241m.\u001b[39membed:\n\u001b[0;32m   1034\u001b[0m     mimetype \u001b[38;5;241m=\u001b[39m \u001b[38;5;28mself\u001b[39m\u001b[38;5;241m.\u001b[39m_mimetype\n\u001b[1;32m-> 1035\u001b[0m     data, metadata \u001b[38;5;241m=\u001b[39m \u001b[38;5;28;43mself\u001b[39;49m\u001b[38;5;241;43m.\u001b[39;49m\u001b[43m_data_and_metadata\u001b[49m\u001b[43m(\u001b[49m\u001b[43malways_both\u001b[49m\u001b[38;5;241;43m=\u001b[39;49m\u001b[38;5;28;43;01mTrue\u001b[39;49;00m\u001b[43m)\u001b[49m\n\u001b[0;32m   1036\u001b[0m     \u001b[38;5;28;01mif\u001b[39;00m metadata:\n\u001b[0;32m   1037\u001b[0m         metadata \u001b[38;5;241m=\u001b[39m {mimetype: metadata}\n",
      "File \u001b[1;32m~\\anaconda3\\envs\\practical_programming\\lib\\site-packages\\IPython\\core\\display.py:1047\u001b[0m, in \u001b[0;36mImage._data_and_metadata\u001b[1;34m(self, always_both)\u001b[0m\n\u001b[0;32m   1045\u001b[0m     b64_data \u001b[38;5;241m=\u001b[39m b2a_base64(\u001b[38;5;28mself\u001b[39m\u001b[38;5;241m.\u001b[39mdata, newline\u001b[38;5;241m=\u001b[39m\u001b[38;5;28;01mFalse\u001b[39;00m)\u001b[38;5;241m.\u001b[39mdecode(\u001b[38;5;124m\"\u001b[39m\u001b[38;5;124mascii\u001b[39m\u001b[38;5;124m\"\u001b[39m)\n\u001b[0;32m   1046\u001b[0m \u001b[38;5;28;01mexcept\u001b[39;00m \u001b[38;5;167;01mTypeError\u001b[39;00m \u001b[38;5;28;01mas\u001b[39;00m e:\n\u001b[1;32m-> 1047\u001b[0m     \u001b[38;5;28;01mraise\u001b[39;00m \u001b[38;5;167;01mFileNotFoundError\u001b[39;00m(\n\u001b[0;32m   1048\u001b[0m         \u001b[38;5;124m\"\u001b[39m\u001b[38;5;124mNo such file or directory: \u001b[39m\u001b[38;5;124m'\u001b[39m\u001b[38;5;132;01m%s\u001b[39;00m\u001b[38;5;124m'\u001b[39m\u001b[38;5;124m\"\u001b[39m \u001b[38;5;241m%\u001b[39m (\u001b[38;5;28mself\u001b[39m\u001b[38;5;241m.\u001b[39mdata)) \u001b[38;5;28;01mfrom\u001b[39;00m \u001b[38;5;21;01me\u001b[39;00m\n\u001b[0;32m   1049\u001b[0m md \u001b[38;5;241m=\u001b[39m {}\n\u001b[0;32m   1050\u001b[0m \u001b[38;5;28;01mif\u001b[39;00m \u001b[38;5;28mself\u001b[39m\u001b[38;5;241m.\u001b[39mmetadata:\n",
      "\u001b[1;31mFileNotFoundError\u001b[0m: No such file or directory: '<PIL.Image.Image image mode=RGBA size=1500x600 at 0x18A7D84E4A0>'"
     ]
    },
    {
     "ename": "FileNotFoundError",
     "evalue": "No such file or directory: '<PIL.Image.Image image mode=RGBA size=1500x600 at 0x18A7D84E4A0>'",
     "output_type": "error",
     "traceback": [
      "\u001b[1;31m---------------------------------------------------------------------------\u001b[0m",
      "\u001b[1;31mTypeError\u001b[0m                                 Traceback (most recent call last)",
      "File \u001b[1;32m~\\anaconda3\\envs\\practical_programming\\lib\\site-packages\\IPython\\core\\display.py:1045\u001b[0m, in \u001b[0;36mImage._data_and_metadata\u001b[1;34m(self, always_both)\u001b[0m\n\u001b[0;32m   1044\u001b[0m \u001b[38;5;28;01mtry\u001b[39;00m:\n\u001b[1;32m-> 1045\u001b[0m     b64_data \u001b[38;5;241m=\u001b[39m \u001b[43mb2a_base64\u001b[49m\u001b[43m(\u001b[49m\u001b[38;5;28;43mself\u001b[39;49m\u001b[38;5;241;43m.\u001b[39;49m\u001b[43mdata\u001b[49m\u001b[43m,\u001b[49m\u001b[43m \u001b[49m\u001b[43mnewline\u001b[49m\u001b[38;5;241;43m=\u001b[39;49m\u001b[38;5;28;43;01mFalse\u001b[39;49;00m\u001b[43m)\u001b[49m\u001b[38;5;241m.\u001b[39mdecode(\u001b[38;5;124m\"\u001b[39m\u001b[38;5;124mascii\u001b[39m\u001b[38;5;124m\"\u001b[39m)\n\u001b[0;32m   1046\u001b[0m \u001b[38;5;28;01mexcept\u001b[39;00m \u001b[38;5;167;01mTypeError\u001b[39;00m \u001b[38;5;28;01mas\u001b[39;00m e:\n",
      "\u001b[1;31mTypeError\u001b[0m: a bytes-like object is required, not 'Image'",
      "\nThe above exception was the direct cause of the following exception:\n",
      "\u001b[1;31mFileNotFoundError\u001b[0m                         Traceback (most recent call last)",
      "File \u001b[1;32m~\\anaconda3\\envs\\practical_programming\\lib\\site-packages\\IPython\\core\\formatters.py:344\u001b[0m, in \u001b[0;36mBaseFormatter.__call__\u001b[1;34m(self, obj)\u001b[0m\n\u001b[0;32m    342\u001b[0m     method \u001b[38;5;241m=\u001b[39m get_real_method(obj, \u001b[38;5;28mself\u001b[39m\u001b[38;5;241m.\u001b[39mprint_method)\n\u001b[0;32m    343\u001b[0m     \u001b[38;5;28;01mif\u001b[39;00m method \u001b[38;5;129;01mis\u001b[39;00m \u001b[38;5;129;01mnot\u001b[39;00m \u001b[38;5;28;01mNone\u001b[39;00m:\n\u001b[1;32m--> 344\u001b[0m         \u001b[38;5;28;01mreturn\u001b[39;00m \u001b[43mmethod\u001b[49m\u001b[43m(\u001b[49m\u001b[43m)\u001b[49m\n\u001b[0;32m    345\u001b[0m     \u001b[38;5;28;01mreturn\u001b[39;00m \u001b[38;5;28;01mNone\u001b[39;00m\n\u001b[0;32m    346\u001b[0m \u001b[38;5;28;01melse\u001b[39;00m:\n",
      "File \u001b[1;32m~\\anaconda3\\envs\\practical_programming\\lib\\site-packages\\IPython\\core\\display.py:1067\u001b[0m, in \u001b[0;36mImage._repr_png_\u001b[1;34m(self)\u001b[0m\n\u001b[0;32m   1065\u001b[0m \u001b[38;5;28;01mdef\u001b[39;00m \u001b[38;5;21m_repr_png_\u001b[39m(\u001b[38;5;28mself\u001b[39m):\n\u001b[0;32m   1066\u001b[0m     \u001b[38;5;28;01mif\u001b[39;00m \u001b[38;5;28mself\u001b[39m\u001b[38;5;241m.\u001b[39membed \u001b[38;5;129;01mand\u001b[39;00m \u001b[38;5;28mself\u001b[39m\u001b[38;5;241m.\u001b[39mformat \u001b[38;5;241m==\u001b[39m \u001b[38;5;28mself\u001b[39m\u001b[38;5;241m.\u001b[39m_FMT_PNG:\n\u001b[1;32m-> 1067\u001b[0m         \u001b[38;5;28;01mreturn\u001b[39;00m \u001b[38;5;28;43mself\u001b[39;49m\u001b[38;5;241;43m.\u001b[39;49m\u001b[43m_data_and_metadata\u001b[49m\u001b[43m(\u001b[49m\u001b[43m)\u001b[49m\n",
      "File \u001b[1;32m~\\anaconda3\\envs\\practical_programming\\lib\\site-packages\\IPython\\core\\display.py:1047\u001b[0m, in \u001b[0;36mImage._data_and_metadata\u001b[1;34m(self, always_both)\u001b[0m\n\u001b[0;32m   1045\u001b[0m     b64_data \u001b[38;5;241m=\u001b[39m b2a_base64(\u001b[38;5;28mself\u001b[39m\u001b[38;5;241m.\u001b[39mdata, newline\u001b[38;5;241m=\u001b[39m\u001b[38;5;28;01mFalse\u001b[39;00m)\u001b[38;5;241m.\u001b[39mdecode(\u001b[38;5;124m\"\u001b[39m\u001b[38;5;124mascii\u001b[39m\u001b[38;5;124m\"\u001b[39m)\n\u001b[0;32m   1046\u001b[0m \u001b[38;5;28;01mexcept\u001b[39;00m \u001b[38;5;167;01mTypeError\u001b[39;00m \u001b[38;5;28;01mas\u001b[39;00m e:\n\u001b[1;32m-> 1047\u001b[0m     \u001b[38;5;28;01mraise\u001b[39;00m \u001b[38;5;167;01mFileNotFoundError\u001b[39;00m(\n\u001b[0;32m   1048\u001b[0m         \u001b[38;5;124m\"\u001b[39m\u001b[38;5;124mNo such file or directory: \u001b[39m\u001b[38;5;124m'\u001b[39m\u001b[38;5;132;01m%s\u001b[39;00m\u001b[38;5;124m'\u001b[39m\u001b[38;5;124m\"\u001b[39m \u001b[38;5;241m%\u001b[39m (\u001b[38;5;28mself\u001b[39m\u001b[38;5;241m.\u001b[39mdata)) \u001b[38;5;28;01mfrom\u001b[39;00m \u001b[38;5;21;01me\u001b[39;00m\n\u001b[0;32m   1049\u001b[0m md \u001b[38;5;241m=\u001b[39m {}\n\u001b[0;32m   1050\u001b[0m \u001b[38;5;28;01mif\u001b[39;00m \u001b[38;5;28mself\u001b[39m\u001b[38;5;241m.\u001b[39mmetadata:\n",
      "\u001b[1;31mFileNotFoundError\u001b[0m: No such file or directory: '<PIL.Image.Image image mode=RGBA size=1500x600 at 0x18A7D84E4A0>'"
     ]
    },
    {
     "data": {
      "text/plain": [
       "<IPython.core.display.Image object>"
      ]
     },
     "execution_count": 41,
     "metadata": {},
     "output_type": "execute_result"
    }
   ],
   "source": [
    "from rdkit.Chem import Draw\n",
    "Draw.MolsToGridImage(mols_all[:10], molsPerRow=5, subImgSize=(300, 300), legends=[\"MCS\"] + tki_all['USAN Definition'].tolist())"
   ]
  },
  {
   "cell_type": "markdown",
   "metadata": {},
   "source": [
    "We cannot observe this substrucutre in any of the molecules! What went wrong?\n",
    "\n",
    "If we look into the documentation of the [`rdFMCS.FindMCS`](https://www.rdkit.org/docs/source/rdkit.Chem.rdFMCS.html) function we see that there is an argument `completeRingsOnly`that is set to False by default. This means that the MCS can be any substructure and does not have to be a ring. Let's set this argument to True and see if that changes the result."
   ]
  },
  {
   "cell_type": "code",
   "execution_count": 43,
   "metadata": {},
   "outputs": [
    {
     "data": {
      "image/png": "[encoded data removed]",
      "text/plain": [
       "<rdkit.Chem.rdchem.Mol at 0x18a024bcac0>"
      ]
     },
     "execution_count": 43,
     "metadata": {},
     "output_type": "execute_result"
    }
   ],
   "source": [
    "# extract MCS again but this time with complete rings only\n",
    "mcs = rdFMCS.FindMCS(mols_all, completeRingsOnly=True)\n",
    "mcs_smarts = mcs.smartsString\n",
    "mcs_mol = Chem.MolFromSmarts(mcs_smarts)\n",
    "mcs_mol"
   ]
  },
  {
   "cell_type": "markdown",
   "metadata": {},
   "source": [
    "Well, that looks even stranger. Maybe the structures are just too diverse. We can assume that there are mulitple substructures that can engage the hinge region and imitate the base of ATP. Let's lower the threshold that defines the number of molecules that need to contain the substructure. We can do this by setting the `threshold` argument in the `rdFMCS.FindMCS` function. Let's lower it stepwise until we get something more reasonable."
   ]
  },
  {
   "cell_type": "code",
   "execution_count": 44,
   "metadata": {},
   "outputs": [
    {
     "data": {
      "image/png": "[encoded data removed]",
      "text/plain": [
       "<rdkit.Chem.rdchem.Mol at 0x18a024bb920>"
      ]
     },
     "execution_count": 44,
     "metadata": {},
     "output_type": "execute_result"
    }
   ],
   "source": [
    "# extract MCS again but this time adding a threshold of 0.5\n",
    "mcs = rdFMCS.FindMCS(mols_all, completeRingsOnly=True, threshold=0.5)\n",
    "mcs_smarts = mcs.smartsString\n",
    "mcs_mol = Chem.MolFromSmarts(mcs_smarts)\n",
    "mcs_mol"
   ]
  },
  {
   "cell_type": "markdown",
   "metadata": {},
   "source": [
    "Now, this already looks more interesting! This means that 50% of the TKI in our dataset contain this pattern. Let's visualize our molecules again together with the found MCS to see if it makes sense."
   ]
  },
  {
   "cell_type": "code",
   "execution_count": 45,
   "metadata": {},
   "outputs": [
    {
     "name": "stderr",
     "output_type": "stream",
     "text": [
      "C:\\Users\\laura\\anaconda3\\envs\\practical_programming\\lib\\site-packages\\rdkit\\Chem\\Draw\\IPythonConsole.py:261: UserWarning: Truncating the list of molecules to be displayed to 50. Change the maxMols value to display more.\n",
      "  warnings.warn(\n"
     ]
    },
    {
     "ename": "FileNotFoundError",
     "evalue": "No such file or directory: '<PIL.Image.Image image mode=RGBA size=1500x3000 at 0x18A7D6FFCA0>'",
     "output_type": "error",
     "traceback": [
      "\u001b[1;31m---------------------------------------------------------------------------\u001b[0m",
      "\u001b[1;31mTypeError\u001b[0m                                 Traceback (most recent call last)",
      "File \u001b[1;32m~\\anaconda3\\envs\\practical_programming\\lib\\site-packages\\IPython\\core\\display.py:1045\u001b[0m, in \u001b[0;36mImage._data_and_metadata\u001b[1;34m(self, always_both)\u001b[0m\n\u001b[0;32m   1044\u001b[0m \u001b[38;5;28;01mtry\u001b[39;00m:\n\u001b[1;32m-> 1045\u001b[0m     b64_data \u001b[38;5;241m=\u001b[39m \u001b[43mb2a_base64\u001b[49m\u001b[43m(\u001b[49m\u001b[38;5;28;43mself\u001b[39;49m\u001b[38;5;241;43m.\u001b[39;49m\u001b[43mdata\u001b[49m\u001b[43m,\u001b[49m\u001b[43m \u001b[49m\u001b[43mnewline\u001b[49m\u001b[38;5;241;43m=\u001b[39;49m\u001b[38;5;28;43;01mFalse\u001b[39;49;00m\u001b[43m)\u001b[49m\u001b[38;5;241m.\u001b[39mdecode(\u001b[38;5;124m\"\u001b[39m\u001b[38;5;124mascii\u001b[39m\u001b[38;5;124m\"\u001b[39m)\n\u001b[0;32m   1046\u001b[0m \u001b[38;5;28;01mexcept\u001b[39;00m \u001b[38;5;167;01mTypeError\u001b[39;00m \u001b[38;5;28;01mas\u001b[39;00m e:\n",
      "\u001b[1;31mTypeError\u001b[0m: a bytes-like object is required, not 'Image'",
      "\nThe above exception was the direct cause of the following exception:\n",
      "\u001b[1;31mFileNotFoundError\u001b[0m                         Traceback (most recent call last)",
      "File \u001b[1;32m~\\anaconda3\\envs\\practical_programming\\lib\\site-packages\\IPython\\core\\formatters.py:974\u001b[0m, in \u001b[0;36mMimeBundleFormatter.__call__\u001b[1;34m(self, obj, include, exclude)\u001b[0m\n\u001b[0;32m    971\u001b[0m     method \u001b[38;5;241m=\u001b[39m get_real_method(obj, \u001b[38;5;28mself\u001b[39m\u001b[38;5;241m.\u001b[39mprint_method)\n\u001b[0;32m    973\u001b[0m     \u001b[38;5;28;01mif\u001b[39;00m method \u001b[38;5;129;01mis\u001b[39;00m \u001b[38;5;129;01mnot\u001b[39;00m \u001b[38;5;28;01mNone\u001b[39;00m:\n\u001b[1;32m--> 974\u001b[0m         \u001b[38;5;28;01mreturn\u001b[39;00m \u001b[43mmethod\u001b[49m\u001b[43m(\u001b[49m\u001b[43minclude\u001b[49m\u001b[38;5;241;43m=\u001b[39;49m\u001b[43minclude\u001b[49m\u001b[43m,\u001b[49m\u001b[43m \u001b[49m\u001b[43mexclude\u001b[49m\u001b[38;5;241;43m=\u001b[39;49m\u001b[43mexclude\u001b[49m\u001b[43m)\u001b[49m\n\u001b[0;32m    975\u001b[0m     \u001b[38;5;28;01mreturn\u001b[39;00m \u001b[38;5;28;01mNone\u001b[39;00m\n\u001b[0;32m    976\u001b[0m \u001b[38;5;28;01melse\u001b[39;00m:\n",
      "File \u001b[1;32m~\\anaconda3\\envs\\practical_programming\\lib\\site-packages\\IPython\\core\\display.py:1035\u001b[0m, in \u001b[0;36mImage._repr_mimebundle_\u001b[1;34m(self, include, exclude)\u001b[0m\n\u001b[0;32m   1033\u001b[0m \u001b[38;5;28;01mif\u001b[39;00m \u001b[38;5;28mself\u001b[39m\u001b[38;5;241m.\u001b[39membed:\n\u001b[0;32m   1034\u001b[0m     mimetype \u001b[38;5;241m=\u001b[39m \u001b[38;5;28mself\u001b[39m\u001b[38;5;241m.\u001b[39m_mimetype\n\u001b[1;32m-> 1035\u001b[0m     data, metadata \u001b[38;5;241m=\u001b[39m \u001b[38;5;28;43mself\u001b[39;49m\u001b[38;5;241;43m.\u001b[39;49m\u001b[43m_data_and_metadata\u001b[49m\u001b[43m(\u001b[49m\u001b[43malways_both\u001b[49m\u001b[38;5;241;43m=\u001b[39;49m\u001b[38;5;28;43;01mTrue\u001b[39;49;00m\u001b[43m)\u001b[49m\n\u001b[0;32m   1036\u001b[0m     \u001b[38;5;28;01mif\u001b[39;00m metadata:\n\u001b[0;32m   1037\u001b[0m         metadata \u001b[38;5;241m=\u001b[39m {mimetype: metadata}\n",
      "File \u001b[1;32m~\\anaconda3\\envs\\practical_programming\\lib\\site-packages\\IPython\\core\\display.py:1047\u001b[0m, in \u001b[0;36mImage._data_and_metadata\u001b[1;34m(self, always_both)\u001b[0m\n\u001b[0;32m   1045\u001b[0m     b64_data \u001b[38;5;241m=\u001b[39m b2a_base64(\u001b[38;5;28mself\u001b[39m\u001b[38;5;241m.\u001b[39mdata, newline\u001b[38;5;241m=\u001b[39m\u001b[38;5;28;01mFalse\u001b[39;00m)\u001b[38;5;241m.\u001b[39mdecode(\u001b[38;5;124m\"\u001b[39m\u001b[38;5;124mascii\u001b[39m\u001b[38;5;124m\"\u001b[39m)\n\u001b[0;32m   1046\u001b[0m \u001b[38;5;28;01mexcept\u001b[39;00m \u001b[38;5;167;01mTypeError\u001b[39;00m \u001b[38;5;28;01mas\u001b[39;00m e:\n\u001b[1;32m-> 1047\u001b[0m     \u001b[38;5;28;01mraise\u001b[39;00m \u001b[38;5;167;01mFileNotFoundError\u001b[39;00m(\n\u001b[0;32m   1048\u001b[0m         \u001b[38;5;124m\"\u001b[39m\u001b[38;5;124mNo such file or directory: \u001b[39m\u001b[38;5;124m'\u001b[39m\u001b[38;5;132;01m%s\u001b[39;00m\u001b[38;5;124m'\u001b[39m\u001b[38;5;124m\"\u001b[39m \u001b[38;5;241m%\u001b[39m (\u001b[38;5;28mself\u001b[39m\u001b[38;5;241m.\u001b[39mdata)) \u001b[38;5;28;01mfrom\u001b[39;00m \u001b[38;5;21;01me\u001b[39;00m\n\u001b[0;32m   1049\u001b[0m md \u001b[38;5;241m=\u001b[39m {}\n\u001b[0;32m   1050\u001b[0m \u001b[38;5;28;01mif\u001b[39;00m \u001b[38;5;28mself\u001b[39m\u001b[38;5;241m.\u001b[39mmetadata:\n",
      "\u001b[1;31mFileNotFoundError\u001b[0m: No such file or directory: '<PIL.Image.Image image mode=RGBA size=1500x3000 at 0x18A7D6FFCA0>'"
     ]
    },
    {
     "ename": "FileNotFoundError",
     "evalue": "No such file or directory: '<PIL.Image.Image image mode=RGBA size=1500x3000 at 0x18A7D6FFCA0>'",
     "output_type": "error",
     "traceback": [
      "\u001b[1;31m---------------------------------------------------------------------------\u001b[0m",
      "\u001b[1;31mTypeError\u001b[0m                                 Traceback (most recent call last)",
      "File \u001b[1;32m~\\anaconda3\\envs\\practical_programming\\lib\\site-packages\\IPython\\core\\display.py:1045\u001b[0m, in \u001b[0;36mImage._data_and_metadata\u001b[1;34m(self, always_both)\u001b[0m\n\u001b[0;32m   1044\u001b[0m \u001b[38;5;28;01mtry\u001b[39;00m:\n\u001b[1;32m-> 1045\u001b[0m     b64_data \u001b[38;5;241m=\u001b[39m \u001b[43mb2a_base64\u001b[49m\u001b[43m(\u001b[49m\u001b[38;5;28;43mself\u001b[39;49m\u001b[38;5;241;43m.\u001b[39;49m\u001b[43mdata\u001b[49m\u001b[43m,\u001b[49m\u001b[43m \u001b[49m\u001b[43mnewline\u001b[49m\u001b[38;5;241;43m=\u001b[39;49m\u001b[38;5;28;43;01mFalse\u001b[39;49;00m\u001b[43m)\u001b[49m\u001b[38;5;241m.\u001b[39mdecode(\u001b[38;5;124m\"\u001b[39m\u001b[38;5;124mascii\u001b[39m\u001b[38;5;124m\"\u001b[39m)\n\u001b[0;32m   1046\u001b[0m \u001b[38;5;28;01mexcept\u001b[39;00m \u001b[38;5;167;01mTypeError\u001b[39;00m \u001b[38;5;28;01mas\u001b[39;00m e:\n",
      "\u001b[1;31mTypeError\u001b[0m: a bytes-like object is required, not 'Image'",
      "\nThe above exception was the direct cause of the following exception:\n",
      "\u001b[1;31mFileNotFoundError\u001b[0m                         Traceback (most recent call last)",
      "File \u001b[1;32m~\\anaconda3\\envs\\practical_programming\\lib\\site-packages\\IPython\\core\\formatters.py:344\u001b[0m, in \u001b[0;36mBaseFormatter.__call__\u001b[1;34m(self, obj)\u001b[0m\n\u001b[0;32m    342\u001b[0m     method \u001b[38;5;241m=\u001b[39m get_real_method(obj, \u001b[38;5;28mself\u001b[39m\u001b[38;5;241m.\u001b[39mprint_method)\n\u001b[0;32m    343\u001b[0m     \u001b[38;5;28;01mif\u001b[39;00m method \u001b[38;5;129;01mis\u001b[39;00m \u001b[38;5;129;01mnot\u001b[39;00m \u001b[38;5;28;01mNone\u001b[39;00m:\n\u001b[1;32m--> 344\u001b[0m         \u001b[38;5;28;01mreturn\u001b[39;00m \u001b[43mmethod\u001b[49m\u001b[43m(\u001b[49m\u001b[43m)\u001b[49m\n\u001b[0;32m    345\u001b[0m     \u001b[38;5;28;01mreturn\u001b[39;00m \u001b[38;5;28;01mNone\u001b[39;00m\n\u001b[0;32m    346\u001b[0m \u001b[38;5;28;01melse\u001b[39;00m:\n",
      "File \u001b[1;32m~\\anaconda3\\envs\\practical_programming\\lib\\site-packages\\IPython\\core\\display.py:1067\u001b[0m, in \u001b[0;36mImage._repr_png_\u001b[1;34m(self)\u001b[0m\n\u001b[0;32m   1065\u001b[0m \u001b[38;5;28;01mdef\u001b[39;00m \u001b[38;5;21m_repr_png_\u001b[39m(\u001b[38;5;28mself\u001b[39m):\n\u001b[0;32m   1066\u001b[0m     \u001b[38;5;28;01mif\u001b[39;00m \u001b[38;5;28mself\u001b[39m\u001b[38;5;241m.\u001b[39membed \u001b[38;5;129;01mand\u001b[39;00m \u001b[38;5;28mself\u001b[39m\u001b[38;5;241m.\u001b[39mformat \u001b[38;5;241m==\u001b[39m \u001b[38;5;28mself\u001b[39m\u001b[38;5;241m.\u001b[39m_FMT_PNG:\n\u001b[1;32m-> 1067\u001b[0m         \u001b[38;5;28;01mreturn\u001b[39;00m \u001b[38;5;28;43mself\u001b[39;49m\u001b[38;5;241;43m.\u001b[39;49m\u001b[43m_data_and_metadata\u001b[49m\u001b[43m(\u001b[49m\u001b[43m)\u001b[49m\n",
      "File \u001b[1;32m~\\anaconda3\\envs\\practical_programming\\lib\\site-packages\\IPython\\core\\display.py:1047\u001b[0m, in \u001b[0;36mImage._data_and_metadata\u001b[1;34m(self, always_both)\u001b[0m\n\u001b[0;32m   1045\u001b[0m     b64_data \u001b[38;5;241m=\u001b[39m b2a_base64(\u001b[38;5;28mself\u001b[39m\u001b[38;5;241m.\u001b[39mdata, newline\u001b[38;5;241m=\u001b[39m\u001b[38;5;28;01mFalse\u001b[39;00m)\u001b[38;5;241m.\u001b[39mdecode(\u001b[38;5;124m\"\u001b[39m\u001b[38;5;124mascii\u001b[39m\u001b[38;5;124m\"\u001b[39m)\n\u001b[0;32m   1046\u001b[0m \u001b[38;5;28;01mexcept\u001b[39;00m \u001b[38;5;167;01mTypeError\u001b[39;00m \u001b[38;5;28;01mas\u001b[39;00m e:\n\u001b[1;32m-> 1047\u001b[0m     \u001b[38;5;28;01mraise\u001b[39;00m \u001b[38;5;167;01mFileNotFoundError\u001b[39;00m(\n\u001b[0;32m   1048\u001b[0m         \u001b[38;5;124m\"\u001b[39m\u001b[38;5;124mNo such file or directory: \u001b[39m\u001b[38;5;124m'\u001b[39m\u001b[38;5;132;01m%s\u001b[39;00m\u001b[38;5;124m'\u001b[39m\u001b[38;5;124m\"\u001b[39m \u001b[38;5;241m%\u001b[39m (\u001b[38;5;28mself\u001b[39m\u001b[38;5;241m.\u001b[39mdata)) \u001b[38;5;28;01mfrom\u001b[39;00m \u001b[38;5;21;01me\u001b[39;00m\n\u001b[0;32m   1049\u001b[0m md \u001b[38;5;241m=\u001b[39m {}\n\u001b[0;32m   1050\u001b[0m \u001b[38;5;28;01mif\u001b[39;00m \u001b[38;5;28mself\u001b[39m\u001b[38;5;241m.\u001b[39mmetadata:\n",
      "\u001b[1;31mFileNotFoundError\u001b[0m: No such file or directory: '<PIL.Image.Image image mode=RGBA size=1500x3000 at 0x18A7D6FFCA0>'"
     ]
    },
    {
     "data": {
      "text/plain": [
       "<IPython.core.display.Image object>"
      ]
     },
     "execution_count": 45,
     "metadata": {},
     "output_type": "execute_result"
    }
   ],
   "source": [
    "Draw.MolsToGridImage([mcs_mol] + mols_all, molsPerRow=5, subImgSize=(300, 300), legends=[\"MCS\"] + tki_all['USAN Definition'].tolist())"
   ]
  },
  {
   "cell_type": "markdown",
   "metadata": {},
   "source": [
    "## Conformer generation\n",
    "A molecule can appear in mutliple conformations, meaning a specific geometric arrangement of atoms in a molecule. Conformer generation is the process of generating different conformations of a molecule. Conformer generation is important in many aspects of chemistry as often the molecules properties and bioactivity or reactivity depend on its conformation. RDKit provides a few functions for conformer generation in the `rdkit.Chem.AllChem` module. One of them is the [`EmbedMolecule`](https://www.rdkit.org/docs/source/rdkit.Chem.rdDistGeom.html) function, which generates a single conformation of a molecule. Another function is the [`EmbedMultipleConfs`](https://www.rdkit.org/docs/source/rdkit.Chem.rdDistGeom.html) function, which generates multiple conformations of a molecule. Let's see this in action on the S-thalidomide structure"
   ]
  },
  {
   "cell_type": "code",
   "execution_count": 46,
   "metadata": {},
   "outputs": [],
   "source": [
    "from rdkit.Chem import AllChem"
   ]
  },
  {
   "cell_type": "markdown",
   "metadata": {},
   "source": [
    "First, let's generate one conformer for the S-Thalidomide using [`EmbedMolecule`](https://www.rdkit.org/docs/source/rdkit.Chem.rdDistGeom.html):"
   ]
  },
  {
   "cell_type": "code",
   "execution_count": 47,
   "metadata": {},
   "outputs": [
    {
     "name": "stderr",
     "output_type": "stream",
     "text": [
      "[10:55:40] Molecule does not have explicit Hs. Consider calling AddHs()\n"
     ]
    },
    {
     "data": {
      "image/png": "[encoded data removed]",
      "text/plain": [
       "<rdkit.Chem.rdchem.Mol at 0x18a024bec70>"
      ]
     },
     "execution_count": 47,
     "metadata": {},
     "output_type": "execute_result"
    }
   ],
   "source": [
    "AllChem.EmbedMolecule(s_thalidomide)\n",
    "s_thalidomide"
   ]
  },
  {
   "cell_type": "markdown",
   "metadata": {},
   "source": [
    "RDKit already complains that we should consider calling `AddHs()`. Why is that? Let's add the hydrogens and try again."
   ]
  },
  {
   "cell_type": "code",
   "execution_count": 48,
   "metadata": {},
   "outputs": [
    {
     "data": {
      "image/png": "[encoded data removed]",
      "text/plain": [
       "<rdkit.Chem.rdchem.Mol at 0x18a024b7f40>"
      ]
     },
     "execution_count": 48,
     "metadata": {},
     "output_type": "execute_result"
    }
   ],
   "source": [
    "s_thalidomide = Chem.AddHs(s_thalidomide)\n",
    "AllChem.EmbedMolecule(s_thalidomide)\n",
    "s_thalidomide"
   ]
  },
  {
   "cell_type": "code",
   "execution_count": 49,
   "metadata": {},
   "outputs": [
    {
     "data": {
      "text/plain": [
       "1"
      ]
     },
     "execution_count": 49,
     "metadata": {},
     "output_type": "execute_result"
    }
   ],
   "source": [
    "# see how many conformers the molecule has (should return 1)\n",
    "s_thalidomide.GetNumConformers()"
   ]
  },
  {
   "cell_type": "markdown",
   "metadata": {},
   "source": [
    "We already discussed that one molecule can usually have multiple conformations. You can observe this by rerunning the cell above several times. You should be able to see a new conformer every time. \n",
    "\n",
    "Now, let's generate `10` conformers with [`EmbedMultipleConfs`](https://www.rdkit.org/docs/source/rdkit.Chem.rdDistGeom.html) and visualize them."
   ]
  },
  {
   "cell_type": "code",
   "execution_count": 50,
   "metadata": {},
   "outputs": [
    {
     "data": {
      "text/plain": [
       "<rdkit.rdBase._vectint at 0x18a04298740>"
      ]
     },
     "execution_count": 50,
     "metadata": {},
     "output_type": "execute_result"
    }
   ],
   "source": [
    "AllChem.EmbedMultipleConfs(s_thalidomide, numConfs=10, enforceChirality=True)"
   ]
  },
  {
   "cell_type": "code",
   "execution_count": 51,
   "metadata": {},
   "outputs": [
    {
     "data": {
      "text/plain": [
       "10"
      ]
     },
     "execution_count": 51,
     "metadata": {},
     "output_type": "execute_result"
    }
   ],
   "source": [
    "# see how many conformers the molecule has (should return 10)\n",
    "s_thalidomide.GetNumConformers()"
   ]
  },
  {
   "cell_type": "markdown",
   "metadata": {},
   "source": [
    "For the set of conformers we can calculate the RMSDs between them.\n",
    "\n",
    "**What is the RMSD?**\n",
    "The root-mean square deviation (RMSD) of two structures is a measure of the average distance between the atoms of two superimposed structures. The basic equation for calculating RMSD is below:\n",
    "\n",
    "$$RMSD = \\sqrt{\\frac{1}{n}\\sum_{i=1}^{n}d_i^2}$$\n",
    "\n",
    "where $n$ is the number of atoms, and $d_i$ is the distance between the atoms in the two structures. The lower the RMSD, the more similar the structures are.\n",
    "\n",
    "Let's calculate the RMSDs between the conformers."
   ]
  },
  {
   "cell_type": "code",
   "execution_count": 52,
   "metadata": {},
   "outputs": [
    {
     "data": {
      "text/plain": [
       "[0.9980115107884453,\n",
       " 0.48825739270261875,\n",
       " 1.0457876157828352,\n",
       " 0.2735259495624083,\n",
       " 0.9979302920928225,\n",
       " 0.5494176245893897,\n",
       " 2.1012120804541574,\n",
       " 2.2387400748466626,\n",
       " 2.1436525393574812,\n",
       " 2.0362658609490794,\n",
       " 1.2131759241023896,\n",
       " 0.7905519047407235,\n",
       " 1.155869218567193,\n",
       " 1.1566119167981257,\n",
       " 2.3157878932218594,\n",
       " 2.168891725069599,\n",
       " 2.283635886402993,\n",
       " 2.1768591286641197,\n",
       " 2.2305678013760466,\n",
       " 3.038425482694252,\n",
       " 2.339463868021048,\n",
       " 2.0467943148250876,\n",
       " 2.2339831335936213,\n",
       " 2.0948916239857125,\n",
       " 1.9928370767076926,\n",
       " 0.681682985550694,\n",
       " 2.254687213521136,\n",
       " 2.9342705895758554,\n",
       " 1.0738470047607982,\n",
       " 0.6140667447591353,\n",
       " 1.067595864879861,\n",
       " 1.0086744999217092,\n",
       " 2.236216896807599,\n",
       " 0.3192821586125053,\n",
       " 2.370645688700681,\n",
       " 2.200640682865045,\n",
       " 2.0301852447151423,\n",
       " 2.325144064266688,\n",
       " 2.093081031102438,\n",
       " 1.9911966867201105,\n",
       " 0.8698702193408545,\n",
       " 2.388207636302069,\n",
       " 2.927033983536569,\n",
       " 0.5739056023035269,\n",
       " 2.3121228300368286]"
      ]
     },
     "execution_count": 52,
     "metadata": {},
     "output_type": "execute_result"
    }
   ],
   "source": [
    "rmsds = AllChem.GetConformerRMSMatrix(s_thalidomide)\n",
    "rmsds"
   ]
  },
  {
   "cell_type": "code",
   "execution_count": 53,
   "metadata": {},
   "outputs": [
    {
     "data": {
      "text/plain": [
       "Text(0.5, 0, 'RMSD')"
      ]
     },
     "execution_count": 53,
     "metadata": {},
     "output_type": "execute_result"
    },
    {
     "data": {
      "image/png": "[encoded data removed]",
      "text/plain": [
       "<Figure size 640x480 with 1 Axes>"
      ]
     },
     "metadata": {},
     "output_type": "display_data"
    }
   ],
   "source": [
    "# plot distribution of RMSDs\n",
    "import matplotlib.pyplot as plt\n",
    "plt.hist(rmsds, bins=20);\n",
    "plt.ylabel(\"Frequency\")\n",
    "plt.xlabel(\"RMSD\")"
   ]
  },
  {
   "cell_type": "markdown",
   "metadata": {},
   "source": [
    "Great! We can see that the molecule has multiple conformations that are actually different. This is important to consider when working with molecules, as the properties of the molecule can depend on its conformation. Often we are interested in the lowest energy conformer since it is the most stable one. Let's minimize the energy of the conformers by using a force field. A force field is a set of equations that describe the potential energy of a molecule. The potential energy is the energy that is stored in the molecule due to the arrangement of the atoms. We will change the arrangement slightly in order to minimize the potential energy. RDKit has mutliple force fields implemented from which we will use the UFF force field.\n",
    "\n",
    "These three functions are used:\n",
    "* [`UFFGetMoleculeForceField`](https://www.rdkit.org/docs/source/rdkit.Chem.rdForceFieldHelpers.html#rdkit.Chem.rdForceFieldHelpers.UFFGetMoleculeForceField)\n",
    "* [`CalcEnergy`](https://www.rdkit.org/docs/source/rdkit.ForceField.rdForceField.html#rdkit.ForceField.rdForceField.ForceField.CalcEnergy)\n",
    "* [`Minimize`](https://www.rdkit.org/docs/source/rdkit.ForceField.rdForceField.html#rdkit.ForceField.rdForceField.ForceField.Minimize)"
   ]
  },
  {
   "cell_type": "code",
   "execution_count": null,
   "metadata": {},
   "outputs": [],
   "source": [
    "# loop over all conformers, minimize and calculate the energy\n",
    "energies = []\n",
    "for conf in s_thalidomide.GetConformers():\n",
    "    ff = # TODO your code here: create a force field object with the first function\n",
    "    energy_before = # TODO your code here: calculate the energy using the force field ff and second function\n",
    "    # TODO your code here: minimize the energy using the force field and the thrid function\n",
    "    energy_after = # TODO your code here: calculate the energy using the force field ff and second function\n",
    "    energies.append(energy_after)\n",
    "    print(f\"Energy before: {energy_before:.4f}; Energy after: {energy_after:.4f}\")\n",
    "energies"
   ]
  },
  {
   "cell_type": "markdown",
   "metadata": {},
   "source": [
    "We saw that each conformer gets adapted and the calculated energy is lowered after minimization. This is a good approach to get the most stable conformer of a molecule. Let's calculate the RMSDs between the minimized conformers."
   ]
  },
  {
   "cell_type": "code",
   "execution_count": null,
   "metadata": {},
   "outputs": [],
   "source": [
    "rmsds = AllChem.GetConformerRMSMatrix(s_thalidomide)\n",
    "plt.hist(rmsds, bins=20);\n",
    "plt.ylabel(\"Frequency\")\n",
    "plt.xlabel(\"RMSD\")"
   ]
  },
  {
   "cell_type": "markdown",
   "metadata": {},
   "source": [
    "We can see that even though we minimized the structures the conformers are still different from each other. Likely, because there are several \"good\" conformers for this small structure. We can still select the minimal-energy conformer based on the calculated energies and numpy's `argmin` function."
   ]
  },
  {
   "cell_type": "code",
   "execution_count": null,
   "metadata": {},
   "outputs": [],
   "source": [
    "import numpy as np\n",
    "min_idx = np.argmin(energies)\n",
    "min_energy = energies[min_idx]\n",
    "min_energy"
   ]
  },
  {
   "cell_type": "code",
   "execution_count": null,
   "metadata": {},
   "outputs": [],
   "source": []
  }
 ],
 "metadata": {
  "kernelspec": {
   "display_name": "Python 3 (ipykernel)",
   "language": "python",
   "name": "python3"
  },
  "language_info": {
   "codemirror_mode": {
    "name": "ipython",
    "version": 3
   },
   "file_extension": ".py",
   "mimetype": "text/x-python",
   "name": "python",
   "nbconvert_exporter": "python",
   "pygments_lexer": "ipython3",
   "version": "3.10.13"
  }
 },
 "nbformat": 4,
 "nbformat_minor": 4
}
