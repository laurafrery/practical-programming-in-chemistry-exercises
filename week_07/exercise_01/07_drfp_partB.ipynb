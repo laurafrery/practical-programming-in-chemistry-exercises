{
 "cells": [
  {
   "cell_type": "markdown",
   "id": "6ea1be65-e1e1-4259-bb87-c2d7a526341f",
   "metadata": {},
   "source": [
    "# DRFP - Reaction fingerprint\n",
    "\n",
    "DRFP is a reaction fingerprint developed by Probst et al.. \n",
    "\n",
    "Here we will just perform a quick test that it is correctly installed to show you the different ways of installing it.\n",
    "\n",
    "To display the path to the activated conda environment, we can run:"
   ]
  },
  {
   "cell_type": "code",
   "execution_count": 11,
   "id": "72d03e42-596e-4bf7-ad5f-ae5e53c470a9",
   "metadata": {},
   "outputs": [
    {
     "name": "stdout",
     "output_type": "stream",
     "text": [
      "C:\\Users\\laura\\anaconda3\\envs\\practical_programming\n"
     ]
    }
   ],
   "source": [
    "import sys \n",
    "print(sys.prefix)"
   ]
  },
  {
   "cell_type": "markdown",
   "id": "bb117f3b-7ff4-495a-a9e6-9914efc54a04",
   "metadata": {},
   "source": [
    "This should end with `drfp_source`, if you followed the tutorial in the README\n",
    "\n",
    "We can also check where we installed the `drfp` package."
   ]
  },
  {
   "cell_type": "code",
   "execution_count": 12,
   "id": "a2082807-2463-4a35-a2f1-5f6bfab16970",
   "metadata": {},
   "outputs": [
    {
     "name": "stdout",
     "output_type": "stream",
     "text": [
      "DRFP installed in: C:\\Users\\laura\\anaconda3\\envs\\practical_programming\\lib\\site-packages\\drfp\\__init__.py\n"
     ]
    }
   ],
   "source": [
    "import drfp\n",
    "print(\"DRFP installed in:\", drfp.__file__)"
   ]
  },
  {
   "cell_type": "markdown",
   "id": "a4ed33f4-6dd3-4366-a830-b93b8bd6de73",
   "metadata": {},
   "source": [
    "Those two checks were mainly to show you how the python package installation is working.\n",
    "\n",
    "Compare the `path` with what you had in the output in `partA`. As you installed it with `pip install -e .`, the \"editable\" flag (`-e`), the `__file__` path should point to a subfolder of where you downloaded `drfp`. \n",
    "\n",
    "Hence, all the changes you make to the code in that folder, will be immediately reflected in your installation. \n",
    "\n",
    "Now, we need to import the reaction encoder (`DrfpEncoder`)\n",
    "\n",
    "### Testing DRFP"
   ]
  },
  {
   "cell_type": "code",
   "execution_count": 13,
   "id": "1c42f92a-3450-4f0e-822e-3fefd9798ead",
   "metadata": {},
   "outputs": [],
   "source": [
    "from drfp import DrfpEncoder"
   ]
  },
  {
   "cell_type": "markdown",
   "id": "67615523-ad08-4616-9041-5d48568a1194",
   "metadata": {},
   "source": [
    "Let's define a few reaction SMILES. If you want to see what they look like, you could use [CDK depict](https://www.simolecule.com/cdkdepict/depict.html)."
   ]
  },
  {
   "cell_type": "code",
   "execution_count": 14,
   "id": "5514ae5b-70ea-4493-8343-462d6e29bdc4",
   "metadata": {},
   "outputs": [],
   "source": [
    "rxn_smiles = [\n",
    "    \"CO.O[C@@H]1CCNC1.[C-]#[N+]CC(=O)OC>>[C-]#[N+]CC(=O)N1CC[C@@H](O)C1\",\n",
    "    \"CCOC(=O)C(CC)c1cccnc1.Cl.O>>CCC(C(=O)O)c1cccnc1\",\n",
    "]"
   ]
  },
  {
   "cell_type": "code",
   "execution_count": 15,
   "id": "dea655f5-8ec0-4681-bca8-4f4e26466a98",
   "metadata": {},
   "outputs": [
    {
     "ename": "OverflowError",
     "evalue": "Python int too large to convert to C long",
     "output_type": "error",
     "traceback": [
      "\u001b[1;31m---------------------------------------------------------------------------\u001b[0m",
      "\u001b[1;31mOverflowError\u001b[0m                             Traceback (most recent call last)",
      "Cell \u001b[1;32mIn[15], line 1\u001b[0m\n\u001b[1;32m----> 1\u001b[0m fps \u001b[38;5;241m=\u001b[39m \u001b[43mDrfpEncoder\u001b[49m\u001b[38;5;241;43m.\u001b[39;49m\u001b[43mencode\u001b[49m\u001b[43m(\u001b[49m\u001b[43mrxn_smiles\u001b[49m\u001b[43m)\u001b[49m\n\u001b[0;32m      2\u001b[0m fps\n",
      "File \u001b[1;32m~\\anaconda3\\envs\\practical_programming\\lib\\site-packages\\drfp\\fingerprint.py:342\u001b[0m, in \u001b[0;36mDrfpEncoder.encode\u001b[1;34m(X, n_folded_length, min_radius, radius, rings, mapping, atom_index_mapping, root_central_atom, include_hydrogens, show_progress_bar)\u001b[0m\n\u001b[0;32m    332\u001b[0m     hashed_diff, smiles_diff, atom_index_map \u001b[38;5;241m=\u001b[39m DrfpEncoder\u001b[38;5;241m.\u001b[39minternal_encode(\n\u001b[0;32m    333\u001b[0m         x,\n\u001b[0;32m    334\u001b[0m         min_radius\u001b[38;5;241m=\u001b[39mmin_radius,\n\u001b[1;32m   (...)\u001b[0m\n\u001b[0;32m    339\u001b[0m         include_hydrogens\u001b[38;5;241m=\u001b[39minclude_hydrogens,\n\u001b[0;32m    340\u001b[0m     )\n\u001b[0;32m    341\u001b[0m \u001b[38;5;28;01melse\u001b[39;00m:\n\u001b[1;32m--> 342\u001b[0m     hashed_diff, smiles_diff \u001b[38;5;241m=\u001b[39m \u001b[43mDrfpEncoder\u001b[49m\u001b[38;5;241;43m.\u001b[39;49m\u001b[43minternal_encode\u001b[49m\u001b[43m(\u001b[49m\n\u001b[0;32m    343\u001b[0m \u001b[43m        \u001b[49m\u001b[43mx\u001b[49m\u001b[43m,\u001b[49m\n\u001b[0;32m    344\u001b[0m \u001b[43m        \u001b[49m\u001b[43mmin_radius\u001b[49m\u001b[38;5;241;43m=\u001b[39;49m\u001b[43mmin_radius\u001b[49m\u001b[43m,\u001b[49m\n\u001b[0;32m    345\u001b[0m \u001b[43m        \u001b[49m\u001b[43mradius\u001b[49m\u001b[38;5;241;43m=\u001b[39;49m\u001b[43mradius\u001b[49m\u001b[43m,\u001b[49m\n\u001b[0;32m    346\u001b[0m \u001b[43m        \u001b[49m\u001b[43mrings\u001b[49m\u001b[38;5;241;43m=\u001b[39;49m\u001b[43mrings\u001b[49m\u001b[43m,\u001b[49m\n\u001b[0;32m    347\u001b[0m \u001b[43m        \u001b[49m\u001b[43mroot_central_atom\u001b[49m\u001b[38;5;241;43m=\u001b[39;49m\u001b[43mroot_central_atom\u001b[49m\u001b[43m,\u001b[49m\n\u001b[0;32m    348\u001b[0m \u001b[43m        \u001b[49m\u001b[43minclude_hydrogens\u001b[49m\u001b[38;5;241;43m=\u001b[39;49m\u001b[43minclude_hydrogens\u001b[49m\u001b[43m,\u001b[49m\n\u001b[0;32m    349\u001b[0m \u001b[43m    \u001b[49m\u001b[43m)\u001b[49m\n\u001b[0;32m    351\u001b[0m difference_folded, on_bits \u001b[38;5;241m=\u001b[39m DrfpEncoder\u001b[38;5;241m.\u001b[39mfold(\n\u001b[0;32m    352\u001b[0m     hashed_diff,\n\u001b[0;32m    353\u001b[0m     length\u001b[38;5;241m=\u001b[39mn_folded_length,\n\u001b[0;32m    354\u001b[0m )\n\u001b[0;32m    356\u001b[0m \u001b[38;5;28;01mif\u001b[39;00m mapping:\n",
      "File \u001b[1;32m~\\anaconda3\\envs\\practical_programming\\lib\\site-packages\\drfp\\fingerprint.py:243\u001b[0m, in \u001b[0;36mDrfpEncoder.internal_encode\u001b[1;34m(in_smiles, radius, min_radius, rings, get_atom_indices, root_central_atom, include_hydrogens)\u001b[0m\n\u001b[0;32m    241\u001b[0m     \u001b[38;5;28;01mreturn\u001b[39;00m DrfpEncoder\u001b[38;5;241m.\u001b[39mhash(\u001b[38;5;28mlist\u001b[39m(s)), \u001b[38;5;28mlist\u001b[39m(s), atom_indices\n\u001b[0;32m    242\u001b[0m \u001b[38;5;28;01melse\u001b[39;00m:\n\u001b[1;32m--> 243\u001b[0m     \u001b[38;5;28;01mreturn\u001b[39;00m \u001b[43mDrfpEncoder\u001b[49m\u001b[38;5;241;43m.\u001b[39;49m\u001b[43mhash\u001b[49m\u001b[43m(\u001b[49m\u001b[38;5;28;43mlist\u001b[39;49m\u001b[43m(\u001b[49m\u001b[43ms\u001b[49m\u001b[43m)\u001b[49m\u001b[43m)\u001b[49m, \u001b[38;5;28mlist\u001b[39m(s)\n",
      "File \u001b[1;32m~\\anaconda3\\envs\\practical_programming\\lib\\site-packages\\drfp\\fingerprint.py:261\u001b[0m, in \u001b[0;36mDrfpEncoder.hash\u001b[1;34m(shingling)\u001b[0m\n\u001b[0;32m    258\u001b[0m \u001b[38;5;28;01mfor\u001b[39;00m t \u001b[38;5;129;01min\u001b[39;00m shingling:\n\u001b[0;32m    259\u001b[0m     hash_values\u001b[38;5;241m.\u001b[39mappend(\u001b[38;5;28mint\u001b[39m(blake2b(t, digest_size\u001b[38;5;241m=\u001b[39m\u001b[38;5;241m4\u001b[39m)\u001b[38;5;241m.\u001b[39mhexdigest(), \u001b[38;5;241m16\u001b[39m))\n\u001b[1;32m--> 261\u001b[0m \u001b[38;5;28;01mreturn\u001b[39;00m \u001b[43mnp\u001b[49m\u001b[38;5;241;43m.\u001b[39;49m\u001b[43marray\u001b[49m\u001b[43m(\u001b[49m\u001b[43mhash_values\u001b[49m\u001b[43m,\u001b[49m\u001b[43m \u001b[49m\u001b[43mdtype\u001b[49m\u001b[38;5;241;43m=\u001b[39;49m\u001b[43mnp\u001b[49m\u001b[38;5;241;43m.\u001b[39;49m\u001b[43mint32\u001b[49m\u001b[43m)\u001b[49m\n",
      "\u001b[1;31mOverflowError\u001b[0m: Python int too large to convert to C long"
     ]
    }
   ],
   "source": [
    "fps = DrfpEncoder.encode(rxn_smiles)\n",
    "fps"
   ]
  },
  {
   "cell_type": "markdown",
   "id": "ab12b471-3d69-4402-8bdc-80adb43a28d3",
   "metadata": {},
   "source": [
    "### Visualize the bits\n",
    "\n",
    "We could visualize the bits with `matplotlib`, so let's try to do that."
   ]
  },
  {
   "cell_type": "code",
   "execution_count": 16,
   "id": "89282acf-3b8f-4b51-9116-816fcb65c03d",
   "metadata": {},
   "outputs": [],
   "source": [
    "import matplotlib.pyplot as plt\n",
    "import numpy as np"
   ]
  },
  {
   "cell_type": "markdown",
   "id": "add89cd9-6b1f-45b4-9916-f7e299d4ffe4",
   "metadata": {},
   "source": [
    "As you have created a new conda environment and not yet installed `matplotlib` this should results in a:\n",
    "\n",
    "```\n",
    "---------------------------------------------------------------------------\n",
    "ModuleNotFoundError                       Traceback (most recent call last)\n",
    "Cell In[6], line 1\n",
    "----> 1 import matplotlib.pyplot as plt\n",
    "      2 import numpy as np\n",
    "      4 # Sample arrays, replace these with your actual data\n",
    "\n",
    "ModuleNotFoundError: No module named 'matplotlib'\n",
    "```\n",
    "\n",
    "Conveniently, we can access the command line through a Jupyter notebook with `!`, and install `matplotlib` in the activate conda environment. "
   ]
  },
  {
   "cell_type": "code",
   "execution_count": 17,
   "id": "7174516b-d36d-4a7d-be49-2e5841047934",
   "metadata": {},
   "outputs": [
    {
     "name": "stdout",
     "output_type": "stream",
     "text": [
      "Requirement already satisfied: matplotlib in c:\\users\\laura\\anaconda3\\envs\\practical_programming\\lib\\site-packages (3.4.3)\n",
      "Requirement already satisfied: cycler>=0.10 in c:\\users\\laura\\anaconda3\\envs\\practical_programming\\lib\\site-packages (from matplotlib) (0.12.1)\n",
      "Requirement already satisfied: kiwisolver>=1.0.1 in c:\\users\\laura\\anaconda3\\envs\\practical_programming\\lib\\site-packages (from matplotlib) (1.4.4)\n",
      "Requirement already satisfied: numpy>=1.16 in c:\\users\\laura\\anaconda3\\envs\\practical_programming\\lib\\site-packages (from matplotlib) (1.26.4)\n",
      "Requirement already satisfied: pillow>=6.2.0 in c:\\users\\laura\\anaconda3\\envs\\practical_programming\\lib\\site-packages (from matplotlib) (10.2.0)\n",
      "Requirement already satisfied: pyparsing>=2.2.1 in c:\\users\\laura\\anaconda3\\envs\\practical_programming\\lib\\site-packages (from matplotlib) (3.1.2)\n",
      "Requirement already satisfied: python-dateutil>=2.7 in c:\\users\\laura\\anaconda3\\envs\\practical_programming\\lib\\site-packages (from matplotlib) (2.8.2)\n",
      "Requirement already satisfied: six>=1.5 in c:\\users\\laura\\anaconda3\\envs\\practical_programming\\lib\\site-packages (from python-dateutil>=2.7->matplotlib) (1.16.0)\n"
     ]
    }
   ],
   "source": [
    "!pip install matplotlib"
   ]
  },
  {
   "cell_type": "markdown",
   "id": "c0a39fe0-2d8a-4868-a279-ffc5f1ebaacc",
   "metadata": {},
   "source": [
    "Now, we are able to import `matplotlib`. The reason we do not have to do the same with `numpy` is that it is a dependency of `drfp`, and therefore, was automatically installed together with `drfp`."
   ]
  },
  {
   "cell_type": "code",
   "execution_count": 18,
   "id": "4b1e9f9d-3d0a-44df-9fd3-ad42b3c86d62",
   "metadata": {},
   "outputs": [],
   "source": [
    "import matplotlib.pyplot as plt\n",
    "import numpy as np"
   ]
  },
  {
   "cell_type": "code",
   "execution_count": 19,
   "id": "11c21da2-9f83-47c2-bdbe-8c385473e26e",
   "metadata": {},
   "outputs": [
    {
     "ename": "OverflowError",
     "evalue": "Python int too large to convert to C long",
     "output_type": "error",
     "traceback": [
      "\u001b[1;31m---------------------------------------------------------------------------\u001b[0m",
      "\u001b[1;31mOverflowError\u001b[0m                             Traceback (most recent call last)",
      "Cell \u001b[1;32mIn[19], line 2\u001b[0m\n\u001b[0;32m      1\u001b[0m \u001b[38;5;66;03m# To make the visualisation a bit more appealing, we will not use the 2048 dimensions but only 128.\u001b[39;00m\n\u001b[1;32m----> 2\u001b[0m fps_128 \u001b[38;5;241m=\u001b[39m \u001b[43mDrfpEncoder\u001b[49m\u001b[38;5;241;43m.\u001b[39;49m\u001b[43mencode\u001b[49m\u001b[43m(\u001b[49m\u001b[43mrxn_smiles\u001b[49m\u001b[43m,\u001b[49m\u001b[43m \u001b[49m\u001b[43mn_folded_length\u001b[49m\u001b[38;5;241;43m=\u001b[39;49m\u001b[38;5;241;43m128\u001b[39;49m\u001b[43m)\u001b[49m\n\u001b[0;32m      3\u001b[0m fps_128\n",
      "File \u001b[1;32m~\\anaconda3\\envs\\practical_programming\\lib\\site-packages\\drfp\\fingerprint.py:342\u001b[0m, in \u001b[0;36mDrfpEncoder.encode\u001b[1;34m(X, n_folded_length, min_radius, radius, rings, mapping, atom_index_mapping, root_central_atom, include_hydrogens, show_progress_bar)\u001b[0m\n\u001b[0;32m    332\u001b[0m     hashed_diff, smiles_diff, atom_index_map \u001b[38;5;241m=\u001b[39m DrfpEncoder\u001b[38;5;241m.\u001b[39minternal_encode(\n\u001b[0;32m    333\u001b[0m         x,\n\u001b[0;32m    334\u001b[0m         min_radius\u001b[38;5;241m=\u001b[39mmin_radius,\n\u001b[1;32m   (...)\u001b[0m\n\u001b[0;32m    339\u001b[0m         include_hydrogens\u001b[38;5;241m=\u001b[39minclude_hydrogens,\n\u001b[0;32m    340\u001b[0m     )\n\u001b[0;32m    341\u001b[0m \u001b[38;5;28;01melse\u001b[39;00m:\n\u001b[1;32m--> 342\u001b[0m     hashed_diff, smiles_diff \u001b[38;5;241m=\u001b[39m \u001b[43mDrfpEncoder\u001b[49m\u001b[38;5;241;43m.\u001b[39;49m\u001b[43minternal_encode\u001b[49m\u001b[43m(\u001b[49m\n\u001b[0;32m    343\u001b[0m \u001b[43m        \u001b[49m\u001b[43mx\u001b[49m\u001b[43m,\u001b[49m\n\u001b[0;32m    344\u001b[0m \u001b[43m        \u001b[49m\u001b[43mmin_radius\u001b[49m\u001b[38;5;241;43m=\u001b[39;49m\u001b[43mmin_radius\u001b[49m\u001b[43m,\u001b[49m\n\u001b[0;32m    345\u001b[0m \u001b[43m        \u001b[49m\u001b[43mradius\u001b[49m\u001b[38;5;241;43m=\u001b[39;49m\u001b[43mradius\u001b[49m\u001b[43m,\u001b[49m\n\u001b[0;32m    346\u001b[0m \u001b[43m        \u001b[49m\u001b[43mrings\u001b[49m\u001b[38;5;241;43m=\u001b[39;49m\u001b[43mrings\u001b[49m\u001b[43m,\u001b[49m\n\u001b[0;32m    347\u001b[0m \u001b[43m        \u001b[49m\u001b[43mroot_central_atom\u001b[49m\u001b[38;5;241;43m=\u001b[39;49m\u001b[43mroot_central_atom\u001b[49m\u001b[43m,\u001b[49m\n\u001b[0;32m    348\u001b[0m \u001b[43m        \u001b[49m\u001b[43minclude_hydrogens\u001b[49m\u001b[38;5;241;43m=\u001b[39;49m\u001b[43minclude_hydrogens\u001b[49m\u001b[43m,\u001b[49m\n\u001b[0;32m    349\u001b[0m \u001b[43m    \u001b[49m\u001b[43m)\u001b[49m\n\u001b[0;32m    351\u001b[0m difference_folded, on_bits \u001b[38;5;241m=\u001b[39m DrfpEncoder\u001b[38;5;241m.\u001b[39mfold(\n\u001b[0;32m    352\u001b[0m     hashed_diff,\n\u001b[0;32m    353\u001b[0m     length\u001b[38;5;241m=\u001b[39mn_folded_length,\n\u001b[0;32m    354\u001b[0m )\n\u001b[0;32m    356\u001b[0m \u001b[38;5;28;01mif\u001b[39;00m mapping:\n",
      "File \u001b[1;32m~\\anaconda3\\envs\\practical_programming\\lib\\site-packages\\drfp\\fingerprint.py:243\u001b[0m, in \u001b[0;36mDrfpEncoder.internal_encode\u001b[1;34m(in_smiles, radius, min_radius, rings, get_atom_indices, root_central_atom, include_hydrogens)\u001b[0m\n\u001b[0;32m    241\u001b[0m     \u001b[38;5;28;01mreturn\u001b[39;00m DrfpEncoder\u001b[38;5;241m.\u001b[39mhash(\u001b[38;5;28mlist\u001b[39m(s)), \u001b[38;5;28mlist\u001b[39m(s), atom_indices\n\u001b[0;32m    242\u001b[0m \u001b[38;5;28;01melse\u001b[39;00m:\n\u001b[1;32m--> 243\u001b[0m     \u001b[38;5;28;01mreturn\u001b[39;00m \u001b[43mDrfpEncoder\u001b[49m\u001b[38;5;241;43m.\u001b[39;49m\u001b[43mhash\u001b[49m\u001b[43m(\u001b[49m\u001b[38;5;28;43mlist\u001b[39;49m\u001b[43m(\u001b[49m\u001b[43ms\u001b[49m\u001b[43m)\u001b[49m\u001b[43m)\u001b[49m, \u001b[38;5;28mlist\u001b[39m(s)\n",
      "File \u001b[1;32m~\\anaconda3\\envs\\practical_programming\\lib\\site-packages\\drfp\\fingerprint.py:261\u001b[0m, in \u001b[0;36mDrfpEncoder.hash\u001b[1;34m(shingling)\u001b[0m\n\u001b[0;32m    258\u001b[0m \u001b[38;5;28;01mfor\u001b[39;00m t \u001b[38;5;129;01min\u001b[39;00m shingling:\n\u001b[0;32m    259\u001b[0m     hash_values\u001b[38;5;241m.\u001b[39mappend(\u001b[38;5;28mint\u001b[39m(blake2b(t, digest_size\u001b[38;5;241m=\u001b[39m\u001b[38;5;241m4\u001b[39m)\u001b[38;5;241m.\u001b[39mhexdigest(), \u001b[38;5;241m16\u001b[39m))\n\u001b[1;32m--> 261\u001b[0m \u001b[38;5;28;01mreturn\u001b[39;00m \u001b[43mnp\u001b[49m\u001b[38;5;241;43m.\u001b[39;49m\u001b[43marray\u001b[49m\u001b[43m(\u001b[49m\u001b[43mhash_values\u001b[49m\u001b[43m,\u001b[49m\u001b[43m \u001b[49m\u001b[43mdtype\u001b[49m\u001b[38;5;241;43m=\u001b[39;49m\u001b[43mnp\u001b[49m\u001b[38;5;241;43m.\u001b[39;49m\u001b[43mint32\u001b[49m\u001b[43m)\u001b[49m\n",
      "\u001b[1;31mOverflowError\u001b[0m: Python int too large to convert to C long"
     ]
    }
   ],
   "source": [
    "# To make the visualisation a bit more appealing, we will not use the 2048 dimensions but only 128.\n",
    "fps_128 = DrfpEncoder.encode(rxn_smiles, n_folded_length=128)\n",
    "fps_128"
   ]
  },
  {
   "cell_type": "code",
   "execution_count": 20,
   "id": "d1865aad-cdb5-4f0a-9909-721ea9349b3d",
   "metadata": {},
   "outputs": [
    {
     "ename": "NameError",
     "evalue": "name 'fps_128' is not defined",
     "output_type": "error",
     "traceback": [
      "\u001b[1;31m---------------------------------------------------------------------------\u001b[0m",
      "\u001b[1;31mNameError\u001b[0m                                 Traceback (most recent call last)",
      "Cell \u001b[1;32mIn[20], line 2\u001b[0m\n\u001b[0;32m      1\u001b[0m \u001b[38;5;66;03m# Convert list of fingerprints into a 2D NumPy array\u001b[39;00m\n\u001b[1;32m----> 2\u001b[0m arrays_2d \u001b[38;5;241m=\u001b[39m np\u001b[38;5;241m.\u001b[39marray(\u001b[43mfps_128\u001b[49m)\n\u001b[0;32m      4\u001b[0m \u001b[38;5;66;03m# Visualize the arrays\u001b[39;00m\n\u001b[0;32m      5\u001b[0m plt\u001b[38;5;241m.\u001b[39mfigure(figsize\u001b[38;5;241m=\u001b[39m(\u001b[38;5;241m20\u001b[39m, \u001b[38;5;241m2\u001b[39m))  \u001b[38;5;66;03m# Adjust the figsize as necessary\u001b[39;00m\n",
      "\u001b[1;31mNameError\u001b[0m: name 'fps_128' is not defined"
     ]
    }
   ],
   "source": [
    "# Convert list of fingerprints into a 2D NumPy array\n",
    "arrays_2d = np.array(fps_128)\n",
    "\n",
    "# Visualize the arrays\n",
    "plt.figure(figsize=(20, 2))  # Adjust the figsize as necessary\n",
    "plt.imshow(arrays_2d, aspect='auto', cmap='viridis')\n",
    "plt.colorbar(label='Value')\n",
    "plt.yticks(ticks=np.arange(len(fps_128)), labels=[f'RXN {i+1}' for i in range(len(fps_128))])\n",
    "plt.xlabel('Index')\n",
    "plt.show()"
   ]
  },
  {
   "cell_type": "code",
   "execution_count": null,
   "id": "f9bd320f-5448-4c1d-bc25-69ef023eeb9e",
   "metadata": {},
   "outputs": [],
   "source": []
  }
 ],
 "metadata": {
  "kernelspec": {
   "display_name": "Python 3 (ipykernel)",
   "language": "python",
   "name": "python3"
  },
  "language_info": {
   "codemirror_mode": {
    "name": "ipython",
    "version": 3
   },
   "file_extension": ".py",
   "mimetype": "text/x-python",
   "name": "python",
   "nbconvert_exporter": "python",
   "pygments_lexer": "ipython3",
   "version": "3.10.13"
  }
 },
 "nbformat": 4,
 "nbformat_minor": 5
}
